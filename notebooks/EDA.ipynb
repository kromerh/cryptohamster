{
 "cells": [
  {
   "cell_type": "markdown",
   "metadata": {},
   "source": [
    "<center>\n",
    "<h1> Wilson The Cryptohamster </h1>\n",
    "<h2>Trading Cryptocurrency with the Power of a cute Syrian Hamster</h2>\n",
    "<hr>\n",
    "<h1>Exploratory Data Analysis</h1>\n",
    "<hr>\n",
    "</center>\n",
    "\n",
    "In this Notebook, we explore the raw data created from the hamster wheel sensor. The goals are as follows:\n",
    "\n",
    "1. Determine the parameters used for the decision process (e.g., timeout between two wheel runs, speed, distance).\n",
    "2. Find out how much Wilson travels on a usual night."
   ]
  },
  {
   "cell_type": "markdown",
   "metadata": {},
   "source": [
    "# Install dependencies"
   ]
  },
  {
   "cell_type": "code",
   "execution_count": 1,
   "metadata": {},
   "outputs": [],
   "source": [
    "#%pip install pandas numpy matplotlib seaborn pymysql"
   ]
  },
  {
   "cell_type": "markdown",
   "metadata": {},
   "source": [
    "# Import libraries and constants\n",
    "\n",
    "We also set the default dpi of figures a bit higher and tell pandas to ignore some warnings (setting with copy)."
   ]
  },
  {
   "cell_type": "code",
   "execution_count": 2,
   "metadata": {},
   "outputs": [],
   "source": [
    "from datetime import datetime\n",
    "import matplotlib\n",
    "import matplotlib.pyplot as plt\n",
    "import numpy as np\n",
    "import os\n",
    "import pandas as pd\n",
    "import pymysql\n",
    "import seaborn as sns\n",
    "import sys\n",
    "\n",
    "# Add path to source files\n",
    "sys.path.insert(1, os.path.join(sys.path[0], '..'))\n",
    "\n",
    "from src.python.utils import load_credentials\n",
    "\n",
    "# Constants\n",
    "from src.python.constants import (\n",
    "    DATABASE,\n",
    "    HOST_REMOTE,\n",
    "    PORT,\n",
    "    TABLE_HAMSTERWHEEL,\n",
    ")\n",
    "\n",
    "matplotlib.rcParams['figure.dpi'] = 200\n",
    "pd.options.mode.chained_assignment = None\n"
   ]
  },
  {
   "cell_type": "markdown",
   "metadata": {},
   "source": [
    "# Connect to the MySQL Database\n",
    "\n",
    "The database is running on the RPi."
   ]
  },
  {
   "cell_type": "code",
   "execution_count": 3,
   "metadata": {},
   "outputs": [
    {
     "name": "stdout",
     "output_type": "stream",
     "text": [
      "<class 'pymysql.connections.Connection'>\n"
     ]
    }
   ],
   "source": [
    "# Load credentials to connect to the database\n",
    "FULL_PATH_TO_CREDENTIALS = './../credentials.cred'\n",
    "user, password = load_credentials(filepath=FULL_PATH_TO_CREDENTIALS)\n",
    "\n",
    "# Create mysql connection\n",
    "mysql_connection = pymysql.connect(\n",
    "    host=HOST_REMOTE,\n",
    "    user=user,\n",
    "    password=password,\n",
    "    db=DATABASE,\n",
    "    port=PORT,\n",
    "    charset='utf8'\n",
    ")\n",
    "print(type(mysql_connection))\n"
   ]
  },
  {
   "cell_type": "markdown",
   "metadata": {},
   "source": [
    "# Check data in the hamsterwheel table\n",
    "\n",
    "The `hamsterhweel` table contains all the measurements where the magnetic sensor triggered a close. The absence of a record in the database means that the sensor was open. "
   ]
  },
  {
   "cell_type": "code",
   "execution_count": 61,
   "metadata": {},
   "outputs": [
    {
     "name": "stderr",
     "output_type": "stream",
     "text": [
      "c:\\Users\\heiko\\OneDrive\\01_Projects\\31.WilsonCrypto\\repo\\cryptohamster\\env\\lib\\site-packages\\pandas\\io\\sql.py:761: UserWarning: pandas only support SQLAlchemy connectable(engine/connection) ordatabase string URI or sqlite3 DBAPI2 connectionother DBAPI2 objects are not tested, please consider using SQLAlchemy\n",
      "  warnings.warn(\n"
     ]
    }
   ],
   "source": [
    "query = f\"SELECT * FROM {TABLE_HAMSTERWHEEL}\"\n",
    "df = pd.read_sql(\n",
    "    sql=query,\n",
    "    con=mysql_connection,\n",
    "    index_col='hamsterwheel_id'\n",
    ")"
   ]
  },
  {
   "cell_type": "markdown",
   "metadata": {},
   "source": [
    "Let's see what the data type is in the table. The time is stored as a datetime object, the flag (is always 1 by default) is an integer."
   ]
  },
  {
   "cell_type": "code",
   "execution_count": 62,
   "metadata": {},
   "outputs": [
    {
     "data": {
      "text/plain": [
       "time    datetime64[ns]\n",
       "flag             int64\n",
       "dtype: object"
      ]
     },
     "execution_count": 62,
     "metadata": {},
     "output_type": "execute_result"
    }
   ],
   "source": [
    "df.dtypes"
   ]
  },
  {
   "cell_type": "markdown",
   "metadata": {},
   "source": [
    "Sorting by the time in descending order shows the latest measurement."
   ]
  },
  {
   "cell_type": "code",
   "execution_count": 6,
   "metadata": {},
   "outputs": [
    {
     "data": {
      "text/html": [
       "<div>\n",
       "<style scoped>\n",
       "    .dataframe tbody tr th:only-of-type {\n",
       "        vertical-align: middle;\n",
       "    }\n",
       "\n",
       "    .dataframe tbody tr th {\n",
       "        vertical-align: top;\n",
       "    }\n",
       "\n",
       "    .dataframe thead th {\n",
       "        text-align: right;\n",
       "    }\n",
       "</style>\n",
       "<table border=\"1\" class=\"dataframe\">\n",
       "  <thead>\n",
       "    <tr style=\"text-align: right;\">\n",
       "      <th></th>\n",
       "      <th>time</th>\n",
       "      <th>flag</th>\n",
       "    </tr>\n",
       "    <tr>\n",
       "      <th>hamsterwheel_id</th>\n",
       "      <th></th>\n",
       "      <th></th>\n",
       "    </tr>\n",
       "  </thead>\n",
       "  <tbody>\n",
       "    <tr>\n",
       "      <th>220876</th>\n",
       "      <td>2022-06-22 22:34:37.601294</td>\n",
       "      <td>1</td>\n",
       "    </tr>\n",
       "    <tr>\n",
       "      <th>220875</th>\n",
       "      <td>2022-06-22 22:34:35.693799</td>\n",
       "      <td>1</td>\n",
       "    </tr>\n",
       "    <tr>\n",
       "      <th>220874</th>\n",
       "      <td>2022-06-22 22:34:35.671916</td>\n",
       "      <td>1</td>\n",
       "    </tr>\n",
       "    <tr>\n",
       "      <th>220873</th>\n",
       "      <td>2022-06-22 22:34:33.908846</td>\n",
       "      <td>1</td>\n",
       "    </tr>\n",
       "    <tr>\n",
       "      <th>220872</th>\n",
       "      <td>2022-06-22 22:34:33.887496</td>\n",
       "      <td>1</td>\n",
       "    </tr>\n",
       "  </tbody>\n",
       "</table>\n",
       "</div>"
      ],
      "text/plain": [
       "                                      time  flag\n",
       "hamsterwheel_id                                 \n",
       "220876          2022-06-22 22:34:37.601294     1\n",
       "220875          2022-06-22 22:34:35.693799     1\n",
       "220874          2022-06-22 22:34:35.671916     1\n",
       "220873          2022-06-22 22:34:33.908846     1\n",
       "220872          2022-06-22 22:34:33.887496     1"
      ]
     },
     "execution_count": 6,
     "metadata": {},
     "output_type": "execute_result"
    }
   ],
   "source": [
    "df.sort_values(by=['time'], ascending=False).head()"
   ]
  },
  {
   "cell_type": "markdown",
   "metadata": {},
   "source": [
    "## Distribution of time between two consecutive readings\n",
    "\n",
    "Let's calculate the difference between two readings of the magnetic sensor. That gives an idea how fast the hamster is usually running. Very long differences mean that the hamster did not run, but the last reading when it stepped of the wheel and the first when it stepped back on. This approach cannot distinguish between two events where the hamster is just running slow and when it stops and steps back on."
   ]
  },
  {
   "cell_type": "code",
   "execution_count": 7,
   "metadata": {},
   "outputs": [
    {
     "name": "stdout",
     "output_type": "stream",
     "text": [
      "(220876, 4)\n"
     ]
    },
    {
     "data": {
      "text/html": [
       "<div>\n",
       "<style scoped>\n",
       "    .dataframe tbody tr th:only-of-type {\n",
       "        vertical-align: middle;\n",
       "    }\n",
       "\n",
       "    .dataframe tbody tr th {\n",
       "        vertical-align: top;\n",
       "    }\n",
       "\n",
       "    .dataframe thead th {\n",
       "        text-align: right;\n",
       "    }\n",
       "</style>\n",
       "<table border=\"1\" class=\"dataframe\">\n",
       "  <thead>\n",
       "    <tr style=\"text-align: right;\">\n",
       "      <th></th>\n",
       "      <th>time</th>\n",
       "      <th>flag</th>\n",
       "      <th>diff</th>\n",
       "      <th>diff_s</th>\n",
       "    </tr>\n",
       "    <tr>\n",
       "      <th>hamsterwheel_id</th>\n",
       "      <th></th>\n",
       "      <th></th>\n",
       "      <th></th>\n",
       "      <th></th>\n",
       "    </tr>\n",
       "  </thead>\n",
       "  <tbody>\n",
       "    <tr>\n",
       "      <th>1</th>\n",
       "      <td>2022-05-31 21:27:47.173574</td>\n",
       "      <td>1</td>\n",
       "      <td>NaT</td>\n",
       "      <td>NaN</td>\n",
       "    </tr>\n",
       "    <tr>\n",
       "      <th>2</th>\n",
       "      <td>2022-05-31 21:27:47.189967</td>\n",
       "      <td>1</td>\n",
       "      <td>0 days 00:00:00.016393</td>\n",
       "      <td>0.016393</td>\n",
       "    </tr>\n",
       "    <tr>\n",
       "      <th>3</th>\n",
       "      <td>2022-05-31 21:27:47.211610</td>\n",
       "      <td>1</td>\n",
       "      <td>0 days 00:00:00.021643</td>\n",
       "      <td>0.021643</td>\n",
       "    </tr>\n",
       "    <tr>\n",
       "      <th>4</th>\n",
       "      <td>2022-05-31 21:27:47.236608</td>\n",
       "      <td>1</td>\n",
       "      <td>0 days 00:00:00.024998</td>\n",
       "      <td>0.024998</td>\n",
       "    </tr>\n",
       "    <tr>\n",
       "      <th>5</th>\n",
       "      <td>2022-05-31 21:31:26.219387</td>\n",
       "      <td>1</td>\n",
       "      <td>0 days 00:03:38.982779</td>\n",
       "      <td>218.982779</td>\n",
       "    </tr>\n",
       "  </tbody>\n",
       "</table>\n",
       "</div>"
      ],
      "text/plain": [
       "                                      time  flag                   diff  \\\n",
       "hamsterwheel_id                                                           \n",
       "1               2022-05-31 21:27:47.173574     1                    NaT   \n",
       "2               2022-05-31 21:27:47.189967     1 0 days 00:00:00.016393   \n",
       "3               2022-05-31 21:27:47.211610     1 0 days 00:00:00.021643   \n",
       "4               2022-05-31 21:27:47.236608     1 0 days 00:00:00.024998   \n",
       "5               2022-05-31 21:31:26.219387     1 0 days 00:03:38.982779   \n",
       "\n",
       "                     diff_s  \n",
       "hamsterwheel_id              \n",
       "1                       NaN  \n",
       "2                  0.016393  \n",
       "3                  0.021643  \n",
       "4                  0.024998  \n",
       "5                218.982779  "
      ]
     },
     "execution_count": 7,
     "metadata": {},
     "output_type": "execute_result"
    }
   ],
   "source": [
    "df['diff'] = (df['time'] - df['time'].shift(1))\n",
    "df['diff_s'] = df['diff'].dt.total_seconds()\n",
    "print(df.shape)\n",
    "df.head()"
   ]
  },
  {
   "cell_type": "markdown",
   "metadata": {},
   "source": [
    "When plotting the native distances as a boxplot, we see that there are a lot of high frequencies and a few long ones. The former - high frequencies - means that the magnetic sensor recorded multiple times a closure when the magnet was passing over it. The very low frequencies (long times between readings) can also be ignored, because here the hamster was not running in the wheel.\n",
    "\n",
    "Let's further refine the plot with a maximum and minimum threshold for the difference in seconds: 0.8 and 12 seconds, respectively."
   ]
  },
  {
   "cell_type": "code",
   "execution_count": 8,
   "metadata": {},
   "outputs": [
    {
     "data": {
      "text/plain": [
       "<AxesSubplot:xlabel='diff_s'>"
      ]
     },
     "execution_count": 8,
     "metadata": {},
     "output_type": "execute_result"
    },
    {
     "data": {
      "image/png": "[encoded data removed]",
      "text/plain": [
       "<Figure size 432x288 with 1 Axes>"
      ]
     },
     "metadata": {
      "needs_background": "light"
     },
     "output_type": "display_data"
    }
   ],
   "source": [
    "sns.boxplot(x=df['diff_s'])"
   ]
  },
  {
   "cell_type": "code",
   "execution_count": 9,
   "metadata": {},
   "outputs": [
    {
     "data": {
      "text/plain": [
       "<AxesSubplot:xlabel='diff_s'>"
      ]
     },
     "execution_count": 9,
     "metadata": {},
     "output_type": "execute_result"
    },
    {
     "data": {
      "image/png": "[encoded data removed]",
      "text/plain": [
       "<Figure size 432x288 with 1 Axes>"
      ]
     },
     "metadata": {
      "needs_background": "light"
     },
     "output_type": "display_data"
    }
   ],
   "source": [
    "sns.boxplot(x=df.loc[df['diff_s'] < 100,'diff_s'])"
   ]
  },
  {
   "cell_type": "code",
   "execution_count": 10,
   "metadata": {},
   "outputs": [
    {
     "name": "stdout",
     "output_type": "stream",
     "text": [
      "We removed 202428 rows by filtering on small and long time differences between wheel readings.\n"
     ]
    }
   ],
   "source": [
    "min_threshold = 0.2\n",
    "max_threshold = 12\n",
    "\n",
    "m = (df['diff_s'] < max_threshold) & (df['diff_s'] > min_threshold)\n",
    "df_cleaned = df.loc[m]\n",
    "\n",
    "n_rem = df.shape[0] - df_cleaned.shape[0]\n",
    "print(f\"We removed {n_rem} rows by filtering on small and long time differences between wheel readings.\")\n"
   ]
  },
  {
   "cell_type": "markdown",
   "metadata": {},
   "source": [
    "Let's plot this new distribution.\n",
    "\n",
    "What we see is that the hamster takes about 1.2 to 2.2 seconds most times when it is running in the wheel. There might be some occasions when it's running much slower (thus more time between readings). As mentioned before, there's no way from the data alone to distinguish between the hamster running very slowly and running and stepping of from the wheel and after a few seconds stepping back on. At least not with the method used to determine the speed in this project.\n",
    "\n",
    "However, that all being said, for our purposes, this will do just fine.\n"
   ]
  },
  {
   "cell_type": "code",
   "execution_count": 11,
   "metadata": {},
   "outputs": [
    {
     "data": {
      "text/plain": [
       "Text(0.5, 0, 'Difference between consecutive readings in seconds')"
      ]
     },
     "execution_count": 11,
     "metadata": {},
     "output_type": "execute_result"
    },
    {
     "data": {
      "image/png": "[encoded data removed]",
      "text/plain": [
       "<Figure size 432x288 with 1 Axes>"
      ]
     },
     "metadata": {
      "needs_background": "light"
     },
     "output_type": "display_data"
    }
   ],
   "source": [
    "sns.histplot(data=df_cleaned, x='diff_s', binwidth=0.1)\n",
    "plt.xlabel('Difference between consecutive readings in seconds')"
   ]
  },
  {
   "cell_type": "code",
   "execution_count": 12,
   "metadata": {},
   "outputs": [
    {
     "data": {
      "text/plain": [
       "Text(0.5, 0, 'Difference between consecutive readings in seconds')"
      ]
     },
     "execution_count": 12,
     "metadata": {},
     "output_type": "execute_result"
    },
    {
     "data": {
      "image/png": "[encoded data removed]",
      "text/plain": [
       "<Figure size 432x288 with 1 Axes>"
      ]
     },
     "metadata": {
      "needs_background": "light"
     },
     "output_type": "display_data"
    }
   ],
   "source": [
    "# Lets see where 95% of the data points fall\n",
    "x_95 = df_cleaned['diff_s'].quantile(.95)\n",
    "\n",
    "plt.axvline(x_95, color='red')\n",
    "plt.text(x_95*1.1, 0.5, s=f'{np.round(x_95, 2)}', color='red')\n",
    "\n",
    "sns.ecdfplot(data=df_cleaned, x='diff_s')\n",
    "plt.xlabel('Difference between consecutive readings in seconds')\n"
   ]
  },
  {
   "cell_type": "markdown",
   "metadata": {},
   "source": [
    "Going back to why we did this investigation in the first place, we wanted to determine the parameters used for the decision process (e.g., timeout between two wheel runs, speed, distance)*. From the data, we conclude the following:\n",
    "\n",
    "We set the timeout between wheel runs to 3.8 seconds. I.e., if the hamster steps back on the wheel within 5 seconds, any decision timer continues to run. If the hamster steps off for more than 3.8 seconds, the decision timer ends and locks a decision in. Again, this approach cannot distinguish between \"slow running\" and \"stepping off the wheel and back on\"."
   ]
  },
  {
   "cell_type": "markdown",
   "metadata": {},
   "source": [
    "# Determine the speed of the hamster and distance traveled\n",
    "\n",
    "Let's for a typical night determine how fast and how far the hamster is running."
   ]
  },
  {
   "cell_type": "code",
   "execution_count": 13,
   "metadata": {},
   "outputs": [
    {
     "data": {
      "text/html": [
       "<div>\n",
       "<style scoped>\n",
       "    .dataframe tbody tr th:only-of-type {\n",
       "        vertical-align: middle;\n",
       "    }\n",
       "\n",
       "    .dataframe tbody tr th {\n",
       "        vertical-align: top;\n",
       "    }\n",
       "\n",
       "    .dataframe thead th {\n",
       "        text-align: right;\n",
       "    }\n",
       "</style>\n",
       "<table border=\"1\" class=\"dataframe\">\n",
       "  <thead>\n",
       "    <tr style=\"text-align: right;\">\n",
       "      <th></th>\n",
       "      <th>time</th>\n",
       "      <th>flag</th>\n",
       "      <th>diff</th>\n",
       "      <th>diff_s</th>\n",
       "    </tr>\n",
       "    <tr>\n",
       "      <th>hamsterwheel_id</th>\n",
       "      <th></th>\n",
       "      <th></th>\n",
       "      <th></th>\n",
       "      <th></th>\n",
       "    </tr>\n",
       "  </thead>\n",
       "  <tbody>\n",
       "  </tbody>\n",
       "</table>\n",
       "</div>"
      ],
      "text/plain": [
       "Empty DataFrame\n",
       "Columns: [time, flag, diff, diff_s]\n",
       "Index: []"
      ]
     },
     "execution_count": 13,
     "metadata": {},
     "output_type": "execute_result"
    }
   ],
   "source": [
    "WHEELSIZE = 30  # cm\n",
    "last_30s = df_cleaned[ df_cleaned['time'] >= datetime.now() - pd.Timedelta(seconds=30)]\n",
    "last_30s\n"
   ]
  },
  {
   "cell_type": "code",
   "execution_count": 14,
   "metadata": {},
   "outputs": [
    {
     "data": {
      "text/plain": [
       "nan"
      ]
     },
     "execution_count": 14,
     "metadata": {},
     "output_type": "execute_result"
    }
   ],
   "source": [
    "# mean time diff\n",
    "time_diff = last_30s['diff_s'].mean()\n",
    "speed_cm_s = WHEELSIZE * 2 * np.pi/time_diff\n",
    "speed_km_h = 60*60*speed_cm_s/100/1000\n",
    "speed_km_h"
   ]
  },
  {
   "cell_type": "code",
   "execution_count": 15,
   "metadata": {},
   "outputs": [],
   "source": [
    "distance = WHEELSIZE * 2 * np.pi\n",
    "df_cleaned['avg_speed'] = distance/df_cleaned['diff_s'].rolling(5).mean()\n",
    "# convert to km/h\n",
    "df_cleaned['avg_speed'] = 60*60*df_cleaned['avg_speed']/100/1000"
   ]
  },
  {
   "cell_type": "code",
   "execution_count": 16,
   "metadata": {},
   "outputs": [
    {
     "data": {
      "text/html": [
       "<div>\n",
       "<style scoped>\n",
       "    .dataframe tbody tr th:only-of-type {\n",
       "        vertical-align: middle;\n",
       "    }\n",
       "\n",
       "    .dataframe tbody tr th {\n",
       "        vertical-align: top;\n",
       "    }\n",
       "\n",
       "    .dataframe thead th {\n",
       "        text-align: right;\n",
       "    }\n",
       "</style>\n",
       "<table border=\"1\" class=\"dataframe\">\n",
       "  <thead>\n",
       "    <tr style=\"text-align: right;\">\n",
       "      <th></th>\n",
       "      <th>time</th>\n",
       "      <th>flag</th>\n",
       "      <th>diff</th>\n",
       "      <th>diff_s</th>\n",
       "      <th>avg_speed</th>\n",
       "    </tr>\n",
       "    <tr>\n",
       "      <th>hamsterwheel_id</th>\n",
       "      <th></th>\n",
       "      <th></th>\n",
       "      <th></th>\n",
       "      <th></th>\n",
       "      <th></th>\n",
       "    </tr>\n",
       "  </thead>\n",
       "  <tbody>\n",
       "    <tr>\n",
       "      <th>7</th>\n",
       "      <td>2022-05-31 21:31:31.370770</td>\n",
       "      <td>1</td>\n",
       "      <td>0 days 00:00:05.135326</td>\n",
       "      <td>5.135326</td>\n",
       "      <td>NaN</td>\n",
       "    </tr>\n",
       "    <tr>\n",
       "      <th>10</th>\n",
       "      <td>2022-05-31 21:31:33.465190</td>\n",
       "      <td>1</td>\n",
       "      <td>0 days 00:00:02.051821</td>\n",
       "      <td>2.051821</td>\n",
       "      <td>NaN</td>\n",
       "    </tr>\n",
       "    <tr>\n",
       "      <th>12</th>\n",
       "      <td>2022-05-31 21:31:35.643069</td>\n",
       "      <td>1</td>\n",
       "      <td>0 days 00:00:02.156843</td>\n",
       "      <td>2.156843</td>\n",
       "      <td>NaN</td>\n",
       "    </tr>\n",
       "    <tr>\n",
       "      <th>14</th>\n",
       "      <td>2022-05-31 21:31:37.790426</td>\n",
       "      <td>1</td>\n",
       "      <td>0 days 00:00:02.126198</td>\n",
       "      <td>2.126198</td>\n",
       "      <td>NaN</td>\n",
       "    </tr>\n",
       "    <tr>\n",
       "      <th>17</th>\n",
       "      <td>2022-05-31 21:32:00.884976</td>\n",
       "      <td>1</td>\n",
       "      <td>0 days 00:00:01.744236</td>\n",
       "      <td>1.744236</td>\n",
       "      <td>2.567588</td>\n",
       "    </tr>\n",
       "    <tr>\n",
       "      <th>...</th>\n",
       "      <td>...</td>\n",
       "      <td>...</td>\n",
       "      <td>...</td>\n",
       "      <td>...</td>\n",
       "      <td>...</td>\n",
       "    </tr>\n",
       "    <tr>\n",
       "      <th>220868</th>\n",
       "      <td>2022-06-22 22:34:30.415180</td>\n",
       "      <td>1</td>\n",
       "      <td>0 days 00:00:01.846484</td>\n",
       "      <td>1.846484</td>\n",
       "      <td>3.908764</td>\n",
       "    </tr>\n",
       "    <tr>\n",
       "      <th>220869</th>\n",
       "      <td>2022-06-22 22:34:32.176802</td>\n",
       "      <td>1</td>\n",
       "      <td>0 days 00:00:01.761622</td>\n",
       "      <td>1.761622</td>\n",
       "      <td>3.873171</td>\n",
       "    </tr>\n",
       "    <tr>\n",
       "      <th>220872</th>\n",
       "      <td>2022-06-22 22:34:33.887496</td>\n",
       "      <td>1</td>\n",
       "      <td>0 days 00:00:01.667887</td>\n",
       "      <td>1.667887</td>\n",
       "      <td>3.884407</td>\n",
       "    </tr>\n",
       "    <tr>\n",
       "      <th>220874</th>\n",
       "      <td>2022-06-22 22:34:35.671916</td>\n",
       "      <td>1</td>\n",
       "      <td>0 days 00:00:01.763070</td>\n",
       "      <td>1.763070</td>\n",
       "      <td>3.852010</td>\n",
       "    </tr>\n",
       "    <tr>\n",
       "      <th>220876</th>\n",
       "      <td>2022-06-22 22:34:37.601294</td>\n",
       "      <td>1</td>\n",
       "      <td>0 days 00:00:01.907495</td>\n",
       "      <td>1.907495</td>\n",
       "      <td>3.792431</td>\n",
       "    </tr>\n",
       "  </tbody>\n",
       "</table>\n",
       "<p>18448 rows × 5 columns</p>\n",
       "</div>"
      ],
      "text/plain": [
       "                                      time  flag                   diff  \\\n",
       "hamsterwheel_id                                                           \n",
       "7               2022-05-31 21:31:31.370770     1 0 days 00:00:05.135326   \n",
       "10              2022-05-31 21:31:33.465190     1 0 days 00:00:02.051821   \n",
       "12              2022-05-31 21:31:35.643069     1 0 days 00:00:02.156843   \n",
       "14              2022-05-31 21:31:37.790426     1 0 days 00:00:02.126198   \n",
       "17              2022-05-31 21:32:00.884976     1 0 days 00:00:01.744236   \n",
       "...                                    ...   ...                    ...   \n",
       "220868          2022-06-22 22:34:30.415180     1 0 days 00:00:01.846484   \n",
       "220869          2022-06-22 22:34:32.176802     1 0 days 00:00:01.761622   \n",
       "220872          2022-06-22 22:34:33.887496     1 0 days 00:00:01.667887   \n",
       "220874          2022-06-22 22:34:35.671916     1 0 days 00:00:01.763070   \n",
       "220876          2022-06-22 22:34:37.601294     1 0 days 00:00:01.907495   \n",
       "\n",
       "                   diff_s  avg_speed  \n",
       "hamsterwheel_id                       \n",
       "7                5.135326        NaN  \n",
       "10               2.051821        NaN  \n",
       "12               2.156843        NaN  \n",
       "14               2.126198        NaN  \n",
       "17               1.744236   2.567588  \n",
       "...                   ...        ...  \n",
       "220868           1.846484   3.908764  \n",
       "220869           1.761622   3.873171  \n",
       "220872           1.667887   3.884407  \n",
       "220874           1.763070   3.852010  \n",
       "220876           1.907495   3.792431  \n",
       "\n",
       "[18448 rows x 5 columns]"
      ]
     },
     "execution_count": 16,
     "metadata": {},
     "output_type": "execute_result"
    }
   ],
   "source": [
    "df_cleaned"
   ]
  },
  {
   "cell_type": "code",
   "execution_count": 17,
   "metadata": {},
   "outputs": [
    {
     "data": {
      "text/plain": [
       "<AxesSubplot:xlabel='time'>"
      ]
     },
     "execution_count": 17,
     "metadata": {},
     "output_type": "execute_result"
    },
    {
     "data": {
      "image/png": "[encoded data removed]",
      "text/plain": [
       "<Figure size 432x288 with 1 Axes>"
      ]
     },
     "metadata": {
      "needs_background": "light"
     },
     "output_type": "display_data"
    }
   ],
   "source": [
    "plot_speed = df_cleaned.set_index('time')\n",
    "plot_speed.loc['2022-05-31 22:38:00': ,'avg_speed'].plot()"
   ]
  },
  {
   "cell_type": "code",
   "execution_count": 18,
   "metadata": {},
   "outputs": [
    {
     "data": {
      "text/plain": [
       "<AxesSubplot:xlabel='time'>"
      ]
     },
     "execution_count": 18,
     "metadata": {},
     "output_type": "execute_result"
    },
    {
     "data": {
      "image/png": "[encoded data removed]",
      "text/plain": [
       "<Figure size 432x288 with 1 Axes>"
      ]
     },
     "metadata": {
      "needs_background": "light"
     },
     "output_type": "display_data"
    }
   ],
   "source": [
    "plot_speed = df_cleaned.set_index('time')\n",
    "plot_speed.loc['2022-06-01 20:00 21:00:00': ,'avg_speed'].plot()"
   ]
  },
  {
   "cell_type": "code",
   "execution_count": 19,
   "metadata": {},
   "outputs": [
    {
     "data": {
      "text/plain": [
       "<AxesSubplot:xlabel='time'>"
      ]
     },
     "execution_count": 19,
     "metadata": {},
     "output_type": "execute_result"
    },
    {
     "data": {
      "image/png": "[encoded data removed]",
      "text/plain": [
       "<Figure size 432x288 with 1 Axes>"
      ]
     },
     "metadata": {
      "needs_background": "light"
     },
     "output_type": "display_data"
    }
   ],
   "source": [
    "# distance in m\n",
    "df_cleaned['distance'] = df_cleaned.reset_index().index * WHEELSIZE * np.pi * 2 / 100\n",
    "plot_speed = df_cleaned.set_index('time')\n",
    "plot_speed.loc['2022-06-05 20:00':,'distance'].plot()"
   ]
  },
  {
   "cell_type": "code",
   "execution_count": 20,
   "metadata": {},
   "outputs": [
    {
     "data": {
      "text/html": [
       "<div>\n",
       "<style scoped>\n",
       "    .dataframe tbody tr th:only-of-type {\n",
       "        vertical-align: middle;\n",
       "    }\n",
       "\n",
       "    .dataframe tbody tr th {\n",
       "        vertical-align: top;\n",
       "    }\n",
       "\n",
       "    .dataframe thead th {\n",
       "        text-align: right;\n",
       "    }\n",
       "</style>\n",
       "<table border=\"1\" class=\"dataframe\">\n",
       "  <thead>\n",
       "    <tr style=\"text-align: right;\">\n",
       "      <th></th>\n",
       "      <th>time</th>\n",
       "      <th>flag</th>\n",
       "      <th>diff</th>\n",
       "      <th>diff_s</th>\n",
       "      <th>avg_speed</th>\n",
       "      <th>distance</th>\n",
       "    </tr>\n",
       "    <tr>\n",
       "      <th>hamsterwheel_id</th>\n",
       "      <th></th>\n",
       "      <th></th>\n",
       "      <th></th>\n",
       "      <th></th>\n",
       "      <th></th>\n",
       "      <th></th>\n",
       "    </tr>\n",
       "  </thead>\n",
       "  <tbody>\n",
       "    <tr>\n",
       "      <th>7</th>\n",
       "      <td>2022-05-31 21:31:31.370770</td>\n",
       "      <td>1</td>\n",
       "      <td>0 days 00:00:05.135326</td>\n",
       "      <td>5.135326</td>\n",
       "      <td>NaN</td>\n",
       "      <td>0.000000</td>\n",
       "    </tr>\n",
       "    <tr>\n",
       "      <th>10</th>\n",
       "      <td>2022-05-31 21:31:33.465190</td>\n",
       "      <td>1</td>\n",
       "      <td>0 days 00:00:02.051821</td>\n",
       "      <td>2.051821</td>\n",
       "      <td>NaN</td>\n",
       "      <td>1.884956</td>\n",
       "    </tr>\n",
       "    <tr>\n",
       "      <th>12</th>\n",
       "      <td>2022-05-31 21:31:35.643069</td>\n",
       "      <td>1</td>\n",
       "      <td>0 days 00:00:02.156843</td>\n",
       "      <td>2.156843</td>\n",
       "      <td>NaN</td>\n",
       "      <td>3.769911</td>\n",
       "    </tr>\n",
       "    <tr>\n",
       "      <th>14</th>\n",
       "      <td>2022-05-31 21:31:37.790426</td>\n",
       "      <td>1</td>\n",
       "      <td>0 days 00:00:02.126198</td>\n",
       "      <td>2.126198</td>\n",
       "      <td>NaN</td>\n",
       "      <td>5.654867</td>\n",
       "    </tr>\n",
       "    <tr>\n",
       "      <th>17</th>\n",
       "      <td>2022-05-31 21:32:00.884976</td>\n",
       "      <td>1</td>\n",
       "      <td>0 days 00:00:01.744236</td>\n",
       "      <td>1.744236</td>\n",
       "      <td>2.567588</td>\n",
       "      <td>7.539822</td>\n",
       "    </tr>\n",
       "    <tr>\n",
       "      <th>...</th>\n",
       "      <td>...</td>\n",
       "      <td>...</td>\n",
       "      <td>...</td>\n",
       "      <td>...</td>\n",
       "      <td>...</td>\n",
       "      <td>...</td>\n",
       "    </tr>\n",
       "    <tr>\n",
       "      <th>220868</th>\n",
       "      <td>2022-06-22 22:34:30.415180</td>\n",
       "      <td>1</td>\n",
       "      <td>0 days 00:00:01.846484</td>\n",
       "      <td>1.846484</td>\n",
       "      <td>3.908764</td>\n",
       "      <td>34764.235986</td>\n",
       "    </tr>\n",
       "    <tr>\n",
       "      <th>220869</th>\n",
       "      <td>2022-06-22 22:34:32.176802</td>\n",
       "      <td>1</td>\n",
       "      <td>0 days 00:00:01.761622</td>\n",
       "      <td>1.761622</td>\n",
       "      <td>3.873171</td>\n",
       "      <td>34766.120942</td>\n",
       "    </tr>\n",
       "    <tr>\n",
       "      <th>220872</th>\n",
       "      <td>2022-06-22 22:34:33.887496</td>\n",
       "      <td>1</td>\n",
       "      <td>0 days 00:00:01.667887</td>\n",
       "      <td>1.667887</td>\n",
       "      <td>3.884407</td>\n",
       "      <td>34768.005897</td>\n",
       "    </tr>\n",
       "    <tr>\n",
       "      <th>220874</th>\n",
       "      <td>2022-06-22 22:34:35.671916</td>\n",
       "      <td>1</td>\n",
       "      <td>0 days 00:00:01.763070</td>\n",
       "      <td>1.763070</td>\n",
       "      <td>3.852010</td>\n",
       "      <td>34769.890853</td>\n",
       "    </tr>\n",
       "    <tr>\n",
       "      <th>220876</th>\n",
       "      <td>2022-06-22 22:34:37.601294</td>\n",
       "      <td>1</td>\n",
       "      <td>0 days 00:00:01.907495</td>\n",
       "      <td>1.907495</td>\n",
       "      <td>3.792431</td>\n",
       "      <td>34771.775808</td>\n",
       "    </tr>\n",
       "  </tbody>\n",
       "</table>\n",
       "<p>18448 rows × 6 columns</p>\n",
       "</div>"
      ],
      "text/plain": [
       "                                      time  flag                   diff  \\\n",
       "hamsterwheel_id                                                           \n",
       "7               2022-05-31 21:31:31.370770     1 0 days 00:00:05.135326   \n",
       "10              2022-05-31 21:31:33.465190     1 0 days 00:00:02.051821   \n",
       "12              2022-05-31 21:31:35.643069     1 0 days 00:00:02.156843   \n",
       "14              2022-05-31 21:31:37.790426     1 0 days 00:00:02.126198   \n",
       "17              2022-05-31 21:32:00.884976     1 0 days 00:00:01.744236   \n",
       "...                                    ...   ...                    ...   \n",
       "220868          2022-06-22 22:34:30.415180     1 0 days 00:00:01.846484   \n",
       "220869          2022-06-22 22:34:32.176802     1 0 days 00:00:01.761622   \n",
       "220872          2022-06-22 22:34:33.887496     1 0 days 00:00:01.667887   \n",
       "220874          2022-06-22 22:34:35.671916     1 0 days 00:00:01.763070   \n",
       "220876          2022-06-22 22:34:37.601294     1 0 days 00:00:01.907495   \n",
       "\n",
       "                   diff_s  avg_speed      distance  \n",
       "hamsterwheel_id                                     \n",
       "7                5.135326        NaN      0.000000  \n",
       "10               2.051821        NaN      1.884956  \n",
       "12               2.156843        NaN      3.769911  \n",
       "14               2.126198        NaN      5.654867  \n",
       "17               1.744236   2.567588      7.539822  \n",
       "...                   ...        ...           ...  \n",
       "220868           1.846484   3.908764  34764.235986  \n",
       "220869           1.761622   3.873171  34766.120942  \n",
       "220872           1.667887   3.884407  34768.005897  \n",
       "220874           1.763070   3.852010  34769.890853  \n",
       "220876           1.907495   3.792431  34771.775808  \n",
       "\n",
       "[18448 rows x 6 columns]"
      ]
     },
     "execution_count": 20,
     "metadata": {},
     "output_type": "execute_result"
    }
   ],
   "source": [
    "df_cleaned"
   ]
  },
  {
   "cell_type": "code",
   "execution_count": 21,
   "metadata": {},
   "outputs": [
    {
     "name": "stdout",
     "output_type": "stream",
     "text": [
      "Wilson ran 3402.34 m between 2022-06-05 20:00 and 2022-06-06 12:00\n"
     ]
    },
    {
     "data": {
      "image/png": "[encoded data removed]",
      "text/plain": [
       "<Figure size 432x288 with 1 Axes>"
      ]
     },
     "metadata": {
      "needs_background": "light"
     },
     "output_type": "display_data"
    }
   ],
   "source": [
    "# distance in m\n",
    "start = '2022-06-05 20:00'\n",
    "end = '2022-06-06 12:00'\n",
    "\n",
    "df_day = df_cleaned.set_index('time').loc[start:end, :]\n",
    "df_day['distance'] = df_day.reset_index().index * WHEELSIZE * np.pi * 2 / 100\n",
    "\n",
    "df_day.loc[:,'distance'].plot()\n",
    "daily_distance = df_day['distance'].iloc[-1]\n",
    "print(f'Wilson ran {daily_distance:.2f} m between {start} and {end}')"
   ]
  },
  {
   "cell_type": "code",
   "execution_count": 22,
   "metadata": {},
   "outputs": [
    {
     "name": "stdout",
     "output_type": "stream",
     "text": [
      "Wilson ran 725.71 m between 2022-06-06 20:00 and 2022-06-07 12:00\n"
     ]
    },
    {
     "data": {
      "image/png": "[encoded data removed]",
      "text/plain": [
       "<Figure size 432x288 with 1 Axes>"
      ]
     },
     "metadata": {
      "needs_background": "light"
     },
     "output_type": "display_data"
    }
   ],
   "source": [
    "# distance in m\n",
    "start = '2022-06-06 20:00'\n",
    "end = '2022-06-07 12:00'\n",
    "\n",
    "df_day = df_cleaned.set_index('time').loc[start:end, :]\n",
    "df_day['distance'] = df_day.reset_index().index * WHEELSIZE * np.pi * 2 / 100\n",
    "\n",
    "df_day.loc[:,'distance'].plot()\n",
    "daily_distance = df_day['distance'].iloc[-1]\n",
    "print(f'Wilson ran {daily_distance:.2f} m between {start} and {end}')"
   ]
  },
  {
   "cell_type": "code",
   "execution_count": 23,
   "metadata": {},
   "outputs": [
    {
     "name": "stdout",
     "output_type": "stream",
     "text": [
      "Wilson ran 1228.99 m between 2022-06-07 20:00 and 2022-06-08 12:00\n"
     ]
    },
    {
     "data": {
      "image/png": "[encoded data removed]",
      "text/plain": [
       "<Figure size 432x288 with 1 Axes>"
      ]
     },
     "metadata": {
      "needs_background": "light"
     },
     "output_type": "display_data"
    }
   ],
   "source": [
    "# distance in m\n",
    "start = '2022-06-07 20:00'\n",
    "end = '2022-06-08 12:00'\n",
    "\n",
    "df_day = df_cleaned.set_index('time').loc[start:end, :]\n",
    "df_day['distance'] = df_day.reset_index().index * WHEELSIZE * np.pi * 2 / 100\n",
    "\n",
    "df_day.loc[:,'distance'].plot()\n",
    "daily_distance = df_day['distance'].iloc[-1]\n",
    "print(f'Wilson ran {daily_distance:.2f} m between {start} and {end}')"
   ]
  },
  {
   "cell_type": "code",
   "execution_count": 24,
   "metadata": {},
   "outputs": [
    {
     "name": "stdout",
     "output_type": "stream",
     "text": [
      "Wilson ran 2474.95 m between 2022-06-08 20:00 and 2022-06-09 12:00\n"
     ]
    },
    {
     "data": {
      "image/png": "[encoded data removed]",
      "text/plain": [
       "<Figure size 432x288 with 1 Axes>"
      ]
     },
     "metadata": {
      "needs_background": "light"
     },
     "output_type": "display_data"
    }
   ],
   "source": [
    "# distance in m\n",
    "start = '2022-06-08 20:00'\n",
    "end = '2022-06-09 12:00'\n",
    "\n",
    "df_day = df_cleaned.set_index('time').loc[start:end, :]\n",
    "df_day['distance'] = df_day.reset_index().index * WHEELSIZE * np.pi * 2 / 100\n",
    "\n",
    "df_day.loc[:,'distance'].plot()\n",
    "daily_distance = df_day['distance'].iloc[-1]\n",
    "print(f'Wilson ran {daily_distance:.2f} m between {start} and {end}')"
   ]
  },
  {
   "cell_type": "code",
   "execution_count": 25,
   "metadata": {},
   "outputs": [
    {
     "name": "stdout",
     "output_type": "stream",
     "text": [
      "Wilson ran 3319.41 m between 2022-06-09 20:00 and 2022-06-10 12:00\n"
     ]
    },
    {
     "data": {
      "image/png": "[encoded data removed]",
      "text/plain": [
       "<Figure size 432x288 with 1 Axes>"
      ]
     },
     "metadata": {
      "needs_background": "light"
     },
     "output_type": "display_data"
    }
   ],
   "source": [
    "# distance in m\n",
    "start = '2022-06-09 20:00'\n",
    "end = '2022-06-10 12:00'\n",
    "\n",
    "df_day = df_cleaned.set_index('time').loc[start:end, :]\n",
    "df_day['distance'] = df_day.reset_index().index * WHEELSIZE * np.pi * 2 / 100\n",
    "\n",
    "df_day.loc[:,'distance'].plot()\n",
    "daily_distance = df_day['distance'].iloc[-1]\n",
    "print(f'Wilson ran {daily_distance:.2f} m between {start} and {end}')"
   ]
  },
  {
   "cell_type": "code",
   "execution_count": 26,
   "metadata": {},
   "outputs": [
    {
     "name": "stdout",
     "output_type": "stream",
     "text": [
      "Wilson ran 1438.22 m between 2022-06-10 20:00 and 2022-06-11 12:00\n"
     ]
    },
    {
     "data": {
      "image/png": "[encoded data removed]",
      "text/plain": [
       "<Figure size 432x288 with 1 Axes>"
      ]
     },
     "metadata": {
      "needs_background": "light"
     },
     "output_type": "display_data"
    }
   ],
   "source": [
    "# distance in m\n",
    "start = '2022-06-10 20:00'\n",
    "end = '2022-06-11 12:00'\n",
    "\n",
    "df_day = df_cleaned.set_index('time').loc[start:end, :]\n",
    "df_day['distance'] = df_day.reset_index().index * WHEELSIZE * np.pi * 2 / 100\n",
    "\n",
    "df_day.loc[:,'distance'].plot()\n",
    "daily_distance = df_day['distance'].iloc[-1]\n",
    "print(f'Wilson ran {daily_distance:.2f} m between {start} and {end}')"
   ]
  },
  {
   "cell_type": "code",
   "execution_count": 27,
   "metadata": {},
   "outputs": [
    {
     "name": "stdout",
     "output_type": "stream",
     "text": [
      "Wilson ran 853.88 m between 2022-06-11 20:00 and 2022-06-12 12:00\n"
     ]
    },
    {
     "data": {
      "image/png": "[encoded data removed]",
      "text/plain": [
       "<Figure size 432x288 with 1 Axes>"
      ]
     },
     "metadata": {
      "needs_background": "light"
     },
     "output_type": "display_data"
    }
   ],
   "source": [
    "# distance in m\n",
    "start = '2022-06-11 20:00'\n",
    "end = '2022-06-12 12:00'\n",
    "\n",
    "df_day = df_cleaned.set_index('time').loc[start:end, :]\n",
    "df_day['distance'] = df_day.reset_index().index * WHEELSIZE * np.pi * 2 / 100\n",
    "\n",
    "df_day.loc[:,'distance'].plot()\n",
    "daily_distance = df_day['distance'].iloc[-1]\n",
    "print(f'Wilson ran {daily_distance:.2f} m between {start} and {end}')"
   ]
  },
  {
   "cell_type": "code",
   "execution_count": 28,
   "metadata": {},
   "outputs": [
    {
     "name": "stdout",
     "output_type": "stream",
     "text": [
      "Wilson ran 1719.08 m between 2022-06-12 20:00 and 2022-06-13 12:00\n"
     ]
    },
    {
     "data": {
      "image/png": "[encoded data removed]",
      "text/plain": [
       "<Figure size 432x288 with 1 Axes>"
      ]
     },
     "metadata": {
      "needs_background": "light"
     },
     "output_type": "display_data"
    }
   ],
   "source": [
    "# distance in m\n",
    "start = '2022-06-12 20:00'\n",
    "end = '2022-06-13 12:00'\n",
    "\n",
    "df_day = df_cleaned.set_index('time').loc[start:end, :]\n",
    "df_day['distance'] = df_day.reset_index().index * WHEELSIZE * np.pi * 2 / 100\n",
    "\n",
    "df_day.loc[:,'distance'].plot()\n",
    "daily_distance = df_day['distance'].iloc[-1]\n",
    "print(f'Wilson ran {daily_distance:.2f} m between {start} and {end}')"
   ]
  },
  {
   "cell_type": "code",
   "execution_count": 29,
   "metadata": {},
   "outputs": [
    {
     "name": "stdout",
     "output_type": "stream",
     "text": [
      "Wilson ran 358.14 m between 2022-06-19 20:00 and 2022-06-20 12:00\n"
     ]
    },
    {
     "data": {
      "image/png": "[encoded data removed]",
      "text/plain": [
       "<Figure size 432x288 with 1 Axes>"
      ]
     },
     "metadata": {
      "needs_background": "light"
     },
     "output_type": "display_data"
    }
   ],
   "source": [
    "# distance in m\n",
    "start = '2022-06-19 20:00'\n",
    "end = '2022-06-20 12:00'\n",
    "\n",
    "df_day = df_cleaned.set_index('time').loc[start:end, :]\n",
    "df_day['distance'] = df_day.reset_index().index * WHEELSIZE * np.pi * 2 / 100\n",
    "\n",
    "df_day.loc[:,'distance'].plot()\n",
    "daily_distance = df_day['distance'].iloc[-1]\n",
    "print(f'Wilson ran {daily_distance:.2f} m between {start} and {end}')"
   ]
  },
  {
   "cell_type": "code",
   "execution_count": 30,
   "metadata": {},
   "outputs": [
    {
     "data": {
      "text/plain": [
       "pandas.core.series.Series"
      ]
     },
     "execution_count": 30,
     "metadata": {},
     "output_type": "execute_result"
    }
   ],
   "source": [
    "type(df_cleaned.iloc[-1, :])"
   ]
  },
  {
   "cell_type": "code",
   "execution_count": 31,
   "metadata": {},
   "outputs": [
    {
     "data": {
      "text/plain": [
       "pandas.core.series.Series"
      ]
     },
     "execution_count": 31,
     "metadata": {},
     "output_type": "execute_result"
    }
   ],
   "source": [
    "pd.core.series.Series"
   ]
  },
  {
   "cell_type": "code",
   "execution_count": 32,
   "metadata": {},
   "outputs": [
    {
     "data": {
      "text/plain": [
       "pymysql.connections.Connection"
      ]
     },
     "execution_count": 32,
     "metadata": {},
     "output_type": "execute_result"
    }
   ],
   "source": [
    "type(mysql_connection)"
   ]
  },
  {
   "cell_type": "code",
   "execution_count": 33,
   "metadata": {},
   "outputs": [
    {
     "name": "stdout",
     "output_type": "stream",
     "text": [
      "Requirement already satisfied: pymysql in c:\\users\\heiko\\onedrive\\01_projects\\31.wilsoncrypto\\repo\\cryptohamster\\env\\lib\\site-packages (1.0.2)\n",
      "Note: you may need to restart the kernel to use updated packages.\n"
     ]
    }
   ],
   "source": [
    "%pip install pymysql"
   ]
  },
  {
   "cell_type": "code",
   "execution_count": 34,
   "metadata": {},
   "outputs": [
    {
     "name": "stderr",
     "output_type": "stream",
     "text": [
      "c:\\Users\\heiko\\OneDrive\\01_Projects\\31.WilsonCrypto\\repo\\cryptohamster\\env\\lib\\site-packages\\pandas\\io\\sql.py:761: UserWarning: pandas only support SQLAlchemy connectable(engine/connection) ordatabase string URI or sqlite3 DBAPI2 connectionother DBAPI2 objects are not tested, please consider using SQLAlchemy\n",
      "  warnings.warn(\n"
     ]
    }
   ],
   "source": [
    "query = f\"SELECT * FROM decision\"\n",
    "df = pd.read_sql(\n",
    "    sql=query,\n",
    "    con=mysql_connection,\n",
    "    index_col='decision_id'\n",
    ")"
   ]
  },
  {
   "cell_type": "code",
   "execution_count": 41,
   "metadata": {},
   "outputs": [
    {
     "data": {
      "text/plain": [
       "session_id                                        1\n",
       "type                                            buy\n",
       "result                                         None\n",
       "start_time               2022-06-23 22:22:44.392688\n",
       "end_time                 0000-00-00 00:00:00.000000\n",
       "hamsterwheel_id_start                             5\n",
       "hamsterwheel_id_end                            None\n",
       "Name: 1, dtype: object"
      ]
     },
     "execution_count": 41,
     "metadata": {},
     "output_type": "execute_result"
    }
   ],
   "source": [
    "latest = df.iloc[-1, :]\n",
    "latest"
   ]
  },
  {
   "cell_type": "code",
   "execution_count": 48,
   "metadata": {},
   "outputs": [
    {
     "data": {
      "text/plain": [
       "datetime.datetime(2022, 6, 23, 23, 4, 31, 568280)"
      ]
     },
     "execution_count": 48,
     "metadata": {},
     "output_type": "execute_result"
    }
   ],
   "source": [
    "now"
   ]
  },
  {
   "cell_type": "code",
   "execution_count": 63,
   "metadata": {},
   "outputs": [
    {
     "name": "stdout",
     "output_type": "stream",
     "text": [
      "<class 'pymysql.connections.Connection'>\n"
     ]
    }
   ],
   "source": [
    "\n",
    "# Load credentials to connect to the database\n",
    "FULL_PATH_TO_CREDENTIALS = './../credentials.cred'\n",
    "user, password = load_credentials(filepath=FULL_PATH_TO_CREDENTIALS)\n",
    "\n",
    "# Create mysql connection\n",
    "mysql_connection = pymysql.connect(\n",
    "    host=HOST_REMOTE,\n",
    "    user=user,\n",
    "    password=password,\n",
    "    db=DATABASE,\n",
    "    port=PORT,\n",
    "    charset='utf8'\n",
    ")\n",
    "print(type(mysql_connection))\n"
   ]
  },
  {
   "cell_type": "code",
   "execution_count": 110,
   "metadata": {},
   "outputs": [],
   "source": [
    "now = datetime.now().strftime('%Y-%m-%d %H:%M:%S.%f')\n",
    "qry = f'UPDATE decision SET end_time = \\\"{now}\\\" WHERE decision_id = {latest.name}'\n",
    "try:\n",
    "    cursor = mysql_connection.cursor()\n",
    "    cursor.execute(qry)\n",
    "except Exception as e:\n",
    "    print(\"Exeception occured:{}\".format(e))\n",
    "finally:\n",
    "    mysql_connection.commit()"
   ]
  },
  {
   "cell_type": "code",
   "execution_count": 111,
   "metadata": {},
   "outputs": [],
   "source": [
    "mysql_connection.close()"
   ]
  },
  {
   "cell_type": "code",
   "execution_count": 100,
   "metadata": {},
   "outputs": [
    {
     "data": {
      "text/plain": [
       "\"UPDATE decision SET end_time = '2022-06-24 00:09:51.958020' WHERE decision_id = 1\""
      ]
     },
     "execution_count": 100,
     "metadata": {},
     "output_type": "execute_result"
    }
   ],
   "source": [
    "qry"
   ]
  },
  {
   "cell_type": "code",
   "execution_count": 89,
   "metadata": {},
   "outputs": [
    {
     "name": "stderr",
     "output_type": "stream",
     "text": [
      "/Users/HeikoKromer/.pyenv/versions/3.10.3/envs/wilsonisahamster/lib/python3.10/site-packages/pandas/io/sql.py:761: UserWarning: pandas only support SQLAlchemy connectable(engine/connection) ordatabase string URI or sqlite3 DBAPI2 connectionother DBAPI2 objects are not tested, please consider using SQLAlchemy\n",
      "  warnings.warn(\n"
     ]
    }
   ],
   "source": [
    "query = f\"SELECT * FROM {TABLE_HAMSTERWHEEL}\"\n",
    "df = pd.read_sql(\n",
    "    sql=query,\n",
    "    con=mysql_connection,\n",
    "    index_col='hamsterwheel_id'\n",
    ")"
   ]
  },
  {
   "cell_type": "code",
   "execution_count": 75,
   "metadata": {},
   "outputs": [
    {
     "data": {
      "text/plain": [
       "0.029451000000000005"
      ]
     },
     "execution_count": 75,
     "metadata": {},
     "output_type": "execute_result"
    }
   ],
   "source": [
    "a = df.tail()\n",
    "(a['time'].shift(1) - a['time']).dt.total_seconds().values[1:].mean()\n"
   ]
  },
  {
   "cell_type": "code",
   "execution_count": 93,
   "metadata": {},
   "outputs": [
    {
     "data": {
      "text/plain": [
       "-0.5504986666666667"
      ]
     },
     "execution_count": 93,
     "metadata": {},
     "output_type": "execute_result"
    }
   ],
   "source": [
    "m = (df['time'] < '2022-06-11 22:46:30') & (df['time'] > '2022-06-11 22:46:00')\n",
    "a = df[m]\n",
    "(a['time'].shift(1) - a['time']).dt.total_seconds().values[1:].mean()"
   ]
  },
  {
   "cell_type": "code",
   "execution_count": 94,
   "metadata": {},
   "outputs": [
    {
     "data": {
      "text/html": [
       "<div>\n",
       "<style scoped>\n",
       "    .dataframe tbody tr th:only-of-type {\n",
       "        vertical-align: middle;\n",
       "    }\n",
       "\n",
       "    .dataframe tbody tr th {\n",
       "        vertical-align: top;\n",
       "    }\n",
       "\n",
       "    .dataframe thead th {\n",
       "        text-align: right;\n",
       "    }\n",
       "</style>\n",
       "<table border=\"1\" class=\"dataframe\">\n",
       "  <thead>\n",
       "    <tr style=\"text-align: right;\">\n",
       "      <th></th>\n",
       "      <th>time</th>\n",
       "      <th>flag</th>\n",
       "    </tr>\n",
       "    <tr>\n",
       "      <th>hamsterwheel_id</th>\n",
       "      <th></th>\n",
       "      <th></th>\n",
       "    </tr>\n",
       "  </thead>\n",
       "  <tbody>\n",
       "    <tr>\n",
       "      <th>167137</th>\n",
       "      <td>2022-06-11 22:46:00.302728</td>\n",
       "      <td>1</td>\n",
       "    </tr>\n",
       "    <tr>\n",
       "      <th>167138</th>\n",
       "      <td>2022-06-11 22:46:00.324016</td>\n",
       "      <td>1</td>\n",
       "    </tr>\n",
       "    <tr>\n",
       "      <th>167139</th>\n",
       "      <td>2022-06-11 22:46:00.345178</td>\n",
       "      <td>1</td>\n",
       "    </tr>\n",
       "    <tr>\n",
       "      <th>167140</th>\n",
       "      <td>2022-06-11 22:46:00.366319</td>\n",
       "      <td>1</td>\n",
       "    </tr>\n",
       "    <tr>\n",
       "      <th>167141</th>\n",
       "      <td>2022-06-11 22:46:02.232963</td>\n",
       "      <td>1</td>\n",
       "    </tr>\n",
       "    <tr>\n",
       "      <th>167142</th>\n",
       "      <td>2022-06-11 22:46:02.254485</td>\n",
       "      <td>1</td>\n",
       "    </tr>\n",
       "    <tr>\n",
       "      <th>167143</th>\n",
       "      <td>2022-06-11 22:46:02.275724</td>\n",
       "      <td>1</td>\n",
       "    </tr>\n",
       "    <tr>\n",
       "      <th>167144</th>\n",
       "      <td>2022-06-11 22:46:02.307415</td>\n",
       "      <td>1</td>\n",
       "    </tr>\n",
       "    <tr>\n",
       "      <th>167145</th>\n",
       "      <td>2022-06-11 22:46:02.328713</td>\n",
       "      <td>1</td>\n",
       "    </tr>\n",
       "    <tr>\n",
       "      <th>167146</th>\n",
       "      <td>2022-06-11 22:46:04.239247</td>\n",
       "      <td>1</td>\n",
       "    </tr>\n",
       "    <tr>\n",
       "      <th>167147</th>\n",
       "      <td>2022-06-11 22:46:04.271000</td>\n",
       "      <td>1</td>\n",
       "    </tr>\n",
       "    <tr>\n",
       "      <th>167148</th>\n",
       "      <td>2022-06-11 22:46:04.310692</td>\n",
       "      <td>1</td>\n",
       "    </tr>\n",
       "    <tr>\n",
       "      <th>167149</th>\n",
       "      <td>2022-06-11 22:46:04.326490</td>\n",
       "      <td>1</td>\n",
       "    </tr>\n",
       "    <tr>\n",
       "      <th>167150</th>\n",
       "      <td>2022-06-11 22:46:10.283233</td>\n",
       "      <td>1</td>\n",
       "    </tr>\n",
       "    <tr>\n",
       "      <th>167151</th>\n",
       "      <td>2022-06-11 22:46:10.304812</td>\n",
       "      <td>1</td>\n",
       "    </tr>\n",
       "    <tr>\n",
       "      <th>167152</th>\n",
       "      <td>2022-06-11 22:46:10.326051</td>\n",
       "      <td>1</td>\n",
       "    </tr>\n",
       "    <tr>\n",
       "      <th>167153</th>\n",
       "      <td>2022-06-11 22:46:10.347394</td>\n",
       "      <td>1</td>\n",
       "    </tr>\n",
       "    <tr>\n",
       "      <th>167154</th>\n",
       "      <td>2022-06-11 22:46:10.368638</td>\n",
       "      <td>1</td>\n",
       "    </tr>\n",
       "    <tr>\n",
       "      <th>167155</th>\n",
       "      <td>2022-06-11 22:46:12.395064</td>\n",
       "      <td>1</td>\n",
       "    </tr>\n",
       "    <tr>\n",
       "      <th>167156</th>\n",
       "      <td>2022-06-11 22:46:12.427093</td>\n",
       "      <td>1</td>\n",
       "    </tr>\n",
       "    <tr>\n",
       "      <th>167157</th>\n",
       "      <td>2022-06-11 22:46:12.448367</td>\n",
       "      <td>1</td>\n",
       "    </tr>\n",
       "    <tr>\n",
       "      <th>167158</th>\n",
       "      <td>2022-06-11 22:46:12.469343</td>\n",
       "      <td>1</td>\n",
       "    </tr>\n",
       "    <tr>\n",
       "      <th>167159</th>\n",
       "      <td>2022-06-11 22:46:12.490247</td>\n",
       "      <td>1</td>\n",
       "    </tr>\n",
       "    <tr>\n",
       "      <th>167160</th>\n",
       "      <td>2022-06-11 22:46:14.364912</td>\n",
       "      <td>1</td>\n",
       "    </tr>\n",
       "    <tr>\n",
       "      <th>167161</th>\n",
       "      <td>2022-06-11 22:46:14.396920</td>\n",
       "      <td>1</td>\n",
       "    </tr>\n",
       "    <tr>\n",
       "      <th>167162</th>\n",
       "      <td>2022-06-11 22:46:14.418222</td>\n",
       "      <td>1</td>\n",
       "    </tr>\n",
       "    <tr>\n",
       "      <th>167163</th>\n",
       "      <td>2022-06-11 22:46:14.452288</td>\n",
       "      <td>1</td>\n",
       "    </tr>\n",
       "    <tr>\n",
       "      <th>167164</th>\n",
       "      <td>2022-06-11 22:46:16.475677</td>\n",
       "      <td>1</td>\n",
       "    </tr>\n",
       "    <tr>\n",
       "      <th>167165</th>\n",
       "      <td>2022-06-11 22:46:16.507486</td>\n",
       "      <td>1</td>\n",
       "    </tr>\n",
       "    <tr>\n",
       "      <th>167166</th>\n",
       "      <td>2022-06-11 22:46:16.539116</td>\n",
       "      <td>1</td>\n",
       "    </tr>\n",
       "    <tr>\n",
       "      <th>167167</th>\n",
       "      <td>2022-06-11 22:46:16.560045</td>\n",
       "      <td>1</td>\n",
       "    </tr>\n",
       "    <tr>\n",
       "      <th>167168</th>\n",
       "      <td>2022-06-11 22:46:18.364252</td>\n",
       "      <td>1</td>\n",
       "    </tr>\n",
       "    <tr>\n",
       "      <th>167169</th>\n",
       "      <td>2022-06-11 22:46:18.396102</td>\n",
       "      <td>1</td>\n",
       "    </tr>\n",
       "    <tr>\n",
       "      <th>167170</th>\n",
       "      <td>2022-06-11 22:46:18.427886</td>\n",
       "      <td>1</td>\n",
       "    </tr>\n",
       "    <tr>\n",
       "      <th>167171</th>\n",
       "      <td>2022-06-11 22:46:18.449235</td>\n",
       "      <td>1</td>\n",
       "    </tr>\n",
       "    <tr>\n",
       "      <th>167172</th>\n",
       "      <td>2022-06-11 22:46:20.231293</td>\n",
       "      <td>1</td>\n",
       "    </tr>\n",
       "    <tr>\n",
       "      <th>167173</th>\n",
       "      <td>2022-06-11 22:46:20.252812</td>\n",
       "      <td>1</td>\n",
       "    </tr>\n",
       "    <tr>\n",
       "      <th>167174</th>\n",
       "      <td>2022-06-11 22:46:20.286605</td>\n",
       "      <td>1</td>\n",
       "    </tr>\n",
       "    <tr>\n",
       "      <th>167175</th>\n",
       "      <td>2022-06-11 22:46:20.302342</td>\n",
       "      <td>1</td>\n",
       "    </tr>\n",
       "    <tr>\n",
       "      <th>167176</th>\n",
       "      <td>2022-06-11 22:46:22.127901</td>\n",
       "      <td>1</td>\n",
       "    </tr>\n",
       "    <tr>\n",
       "      <th>167177</th>\n",
       "      <td>2022-06-11 22:46:24.023195</td>\n",
       "      <td>1</td>\n",
       "    </tr>\n",
       "    <tr>\n",
       "      <th>167178</th>\n",
       "      <td>2022-06-11 22:46:24.055054</td>\n",
       "      <td>1</td>\n",
       "    </tr>\n",
       "    <tr>\n",
       "      <th>167179</th>\n",
       "      <td>2022-06-11 22:46:24.086712</td>\n",
       "      <td>1</td>\n",
       "    </tr>\n",
       "    <tr>\n",
       "      <th>167180</th>\n",
       "      <td>2022-06-11 22:46:24.107812</td>\n",
       "      <td>1</td>\n",
       "    </tr>\n",
       "    <tr>\n",
       "      <th>167181</th>\n",
       "      <td>2022-06-11 22:46:25.815230</td>\n",
       "      <td>1</td>\n",
       "    </tr>\n",
       "    <tr>\n",
       "      <th>167182</th>\n",
       "      <td>2022-06-11 22:46:25.846786</td>\n",
       "      <td>1</td>\n",
       "    </tr>\n",
       "    <tr>\n",
       "      <th>167183</th>\n",
       "      <td>2022-06-11 22:46:25.878288</td>\n",
       "      <td>1</td>\n",
       "    </tr>\n",
       "    <tr>\n",
       "      <th>167184</th>\n",
       "      <td>2022-06-11 22:46:25.899137</td>\n",
       "      <td>1</td>\n",
       "    </tr>\n",
       "    <tr>\n",
       "      <th>167185</th>\n",
       "      <td>2022-06-11 22:46:28.309184</td>\n",
       "      <td>1</td>\n",
       "    </tr>\n",
       "    <tr>\n",
       "      <th>167186</th>\n",
       "      <td>2022-06-11 22:46:28.335894</td>\n",
       "      <td>1</td>\n",
       "    </tr>\n",
       "    <tr>\n",
       "      <th>167187</th>\n",
       "      <td>2022-06-11 22:46:28.357169</td>\n",
       "      <td>1</td>\n",
       "    </tr>\n",
       "    <tr>\n",
       "      <th>167188</th>\n",
       "      <td>2022-06-11 22:46:28.378160</td>\n",
       "      <td>1</td>\n",
       "    </tr>\n",
       "  </tbody>\n",
       "</table>\n",
       "</div>"
      ],
      "text/plain": [
       "                                      time  flag\n",
       "hamsterwheel_id                                 \n",
       "167137          2022-06-11 22:46:00.302728     1\n",
       "167138          2022-06-11 22:46:00.324016     1\n",
       "167139          2022-06-11 22:46:00.345178     1\n",
       "167140          2022-06-11 22:46:00.366319     1\n",
       "167141          2022-06-11 22:46:02.232963     1\n",
       "167142          2022-06-11 22:46:02.254485     1\n",
       "167143          2022-06-11 22:46:02.275724     1\n",
       "167144          2022-06-11 22:46:02.307415     1\n",
       "167145          2022-06-11 22:46:02.328713     1\n",
       "167146          2022-06-11 22:46:04.239247     1\n",
       "167147          2022-06-11 22:46:04.271000     1\n",
       "167148          2022-06-11 22:46:04.310692     1\n",
       "167149          2022-06-11 22:46:04.326490     1\n",
       "167150          2022-06-11 22:46:10.283233     1\n",
       "167151          2022-06-11 22:46:10.304812     1\n",
       "167152          2022-06-11 22:46:10.326051     1\n",
       "167153          2022-06-11 22:46:10.347394     1\n",
       "167154          2022-06-11 22:46:10.368638     1\n",
       "167155          2022-06-11 22:46:12.395064     1\n",
       "167156          2022-06-11 22:46:12.427093     1\n",
       "167157          2022-06-11 22:46:12.448367     1\n",
       "167158          2022-06-11 22:46:12.469343     1\n",
       "167159          2022-06-11 22:46:12.490247     1\n",
       "167160          2022-06-11 22:46:14.364912     1\n",
       "167161          2022-06-11 22:46:14.396920     1\n",
       "167162          2022-06-11 22:46:14.418222     1\n",
       "167163          2022-06-11 22:46:14.452288     1\n",
       "167164          2022-06-11 22:46:16.475677     1\n",
       "167165          2022-06-11 22:46:16.507486     1\n",
       "167166          2022-06-11 22:46:16.539116     1\n",
       "167167          2022-06-11 22:46:16.560045     1\n",
       "167168          2022-06-11 22:46:18.364252     1\n",
       "167169          2022-06-11 22:46:18.396102     1\n",
       "167170          2022-06-11 22:46:18.427886     1\n",
       "167171          2022-06-11 22:46:18.449235     1\n",
       "167172          2022-06-11 22:46:20.231293     1\n",
       "167173          2022-06-11 22:46:20.252812     1\n",
       "167174          2022-06-11 22:46:20.286605     1\n",
       "167175          2022-06-11 22:46:20.302342     1\n",
       "167176          2022-06-11 22:46:22.127901     1\n",
       "167177          2022-06-11 22:46:24.023195     1\n",
       "167178          2022-06-11 22:46:24.055054     1\n",
       "167179          2022-06-11 22:46:24.086712     1\n",
       "167180          2022-06-11 22:46:24.107812     1\n",
       "167181          2022-06-11 22:46:25.815230     1\n",
       "167182          2022-06-11 22:46:25.846786     1\n",
       "167183          2022-06-11 22:46:25.878288     1\n",
       "167184          2022-06-11 22:46:25.899137     1\n",
       "167185          2022-06-11 22:46:28.309184     1\n",
       "167186          2022-06-11 22:46:28.335894     1\n",
       "167187          2022-06-11 22:46:28.357169     1\n",
       "167188          2022-06-11 22:46:28.378160     1"
      ]
     },
     "execution_count": 94,
     "metadata": {},
     "output_type": "execute_result"
    }
   ],
   "source": [
    "a"
   ]
  },
  {
   "cell_type": "code",
   "execution_count": 61,
   "metadata": {},
   "outputs": [],
   "source": [
    "\n",
    "DB_TBL = {\n",
    "    'WALLET': {\n",
    "        'name': 'wallet',\n",
    "        'id_col': 'wallet_id'\n",
    "    },\n",
    "    'DECISION': {\n",
    "        'name': 'decision',\n",
    "        'id_col': 'decision_id',\n",
    "        'end_time_col': 'end_time',\n",
    "        'hamsterwheel_id_end_col': 'hamsterwheel_id_end',\n",
    "        'result_col': 'result'\n",
    "    },\n",
    "    'HAMSTERWHEEL': {\n",
    "        'name': 'hamsterwheel',\n",
    "        'id_col': 'hamsterwheel_id'\n",
    "    },\n",
    "    'DECISION': {\n",
    "        'name': 'decision',\n",
    "        'id_col': 'decision_id'\n",
    "    },\n",
    "}\n",
    "\n",
    "def is_magnet_closed(\n",
    "    mysql_connection: pymysql.connections.Connection,\n",
    "    threshold: float = 0.75\n",
    "    ) -> bool:\n",
    "    \"\"\"Function that returns True if the magnet is stuck in closed position.\n",
    "\n",
    "    When the wheel stops just when the magnet touches the sensor, there would be \n",
    "    infinite readings into the database, we want to avoid this!\n",
    "\n",
    "    Args:\n",
    "        mysql_connection: MySQL connection\n",
    "        threshold: Threshold in seconds above which the average must lie.\n",
    "\n",
    "    Returns:\n",
    "        True if average of the last 20 readings is smaller than 0.5 seconds, else False.\n",
    "    \"\"\"\n",
    "    # Get the past 20 readings of the hamsterwheel\n",
    "    query = f\"SELECT * FROM {DB_TBL['HAMSTERWHEEL']['name']} ORDER BY time DESC LIMIT 20\"\n",
    "    df = pd.read_sql(\n",
    "        sql=query,\n",
    "        con=mysql_connection,\n",
    "        index_col='hamsterwheel_id'\n",
    "    )\n",
    "    # Compute average\n",
    "    avg_time_diff = (df['time'].shift(1) - df['time']).dt.total_seconds().values[1:].mean()\n",
    "    print(avg_time_diff)\n",
    "    # Check if average below threshold\n",
    "    if avg_time_diff < threshold:\n",
    "        return True\n",
    "    else:\n",
    "        return False"
   ]
  },
  {
   "cell_type": "code",
   "execution_count": 62,
   "metadata": {},
   "outputs": [
    {
     "name": "stderr",
     "output_type": "stream",
     "text": [
      "/Users/HeikoKromer/.pyenv/versions/3.10.3/envs/wilsonisahamster/lib/python3.10/site-packages/pandas/io/sql.py:761: UserWarning: pandas only support SQLAlchemy connectable(engine/connection) ordatabase string URI or sqlite3 DBAPI2 connectionother DBAPI2 objects are not tested, please consider using SQLAlchemy\n",
      "  warnings.warn(\n"
     ]
    },
    {
     "name": "stdout",
     "output_type": "stream",
     "text": [
      "0.6432174736842106\n"
     ]
    },
    {
     "data": {
      "text/plain": [
       "True"
      ]
     },
     "execution_count": 62,
     "metadata": {},
     "output_type": "execute_result"
    }
   ],
   "source": [
    "is_magnet_closed(mysql_connection)"
   ]
  },
  {
   "cell_type": "code",
   "execution_count": null,
   "metadata": {},
   "outputs": [],
   "source": []
  }
 ],
 "metadata": {
  "kernelspec": {
   "display_name": "Python 3.10.5 ('env': venv)",
   "language": "python",
   "name": "python3"
  },
  "language_info": {
   "codemirror_mode": {
    "name": "ipython",
    "version": 3
   },
   "file_extension": ".py",
   "mimetype": "text/x-python",
   "name": "python",
   "nbconvert_exporter": "python",
   "pygments_lexer": "ipython3",
   "version": "3.10.5"
  },
  "orig_nbformat": 4,
  "vscode": {
   "interpreter": {
    "hash": "4276cabb488e924f858ae5ec233e0002d429c7e33879a621b52f20469f2d9253"
   }
  }
 },
 "nbformat": 4,
 "nbformat_minor": 2
}
