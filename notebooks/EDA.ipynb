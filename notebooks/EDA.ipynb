{
 "cells": [
  {
   "cell_type": "markdown",
   "metadata": {},
   "source": [
    "<center>\n",
    "<h1> Wilson The Cryptohamster </h1>\n",
    "<h2>Trading Cryptocurrency with the Power of a cute Syrian Hamster</h2>\n",
    "<hr>\n",
    "<h1>Exploratory Data Analysis</h1>\n",
    "<hr>\n",
    "</center>\n",
    "\n",
    "In this Notebook, we explore the raw data created from the hamster wheel sensor. The goals are as follows:\n",
    "\n",
    "1. Determine the parameters used for the decision process (e.g., timeout between two wheel runs, speed, distance).\n",
    "2. Find out how much Wilson travels on a usual night."
   ]
  },
  {
   "cell_type": "markdown",
   "metadata": {},
   "source": [
    "# Install dependencies"
   ]
  },
  {
   "cell_type": "code",
   "execution_count": 2,
   "metadata": {},
   "outputs": [],
   "source": [
    "import hashlib\n",
    "import pandas as pd"
   ]
  },
  {
   "cell_type": "code",
   "execution_count": 10,
   "metadata": {},
   "outputs": [],
   "source": [
    "import hashlib\n",
    "import pandas as pd\n",
    "\n",
    "def add_hash_column(df: pd.DataFrame, columns: list) -> pd.DataFrame:\n",
    "    \"\"\"Add hash column to df based on columns.\"\"\"\n",
    "    df[\"hash\"] = df[columns].astype(str).apply(lambda x: hashlib.md5(x.to_string().encode()).hexdigest(), axis=1)\n",
    "    return df"
   ]
  },
  {
   "cell_type": "code",
   "execution_count": 11,
   "metadata": {},
   "outputs": [],
   "source": [
    "df_decision_cycle = pd.DataFrame(\n",
    "    {\n",
    "        \"some_col\": [\"A\", \"CCC\", \"BBB\"],\n",
    "        \"type\": [\"currency\", \"buy_or_sell\", \"amount\"],\n",
    "        \"result\": [\"BTC\", \"buy\", 0.1],\n",
    "        \"start_time\": [\n",
    "            pd.Timestamp(\"2023-08-01 00:00:00\"),\n",
    "            pd.Timestamp(\"2023-08-02 00:00:03\"),\n",
    "            pd.Timestamp(\"2023-08-03 00:00:06\"),\n",
    "        ],\n",
    "    }\n",
    ")"
   ]
  },
  {
   "cell_type": "code",
   "execution_count": 12,
   "metadata": {},
   "outputs": [
    {
     "data": {
      "text/html": [
       "<div>\n",
       "<style scoped>\n",
       "    .dataframe tbody tr th:only-of-type {\n",
       "        vertical-align: middle;\n",
       "    }\n",
       "\n",
       "    .dataframe tbody tr th {\n",
       "        vertical-align: top;\n",
       "    }\n",
       "\n",
       "    .dataframe thead th {\n",
       "        text-align: right;\n",
       "    }\n",
       "</style>\n",
       "<table border=\"1\" class=\"dataframe\">\n",
       "  <thead>\n",
       "    <tr style=\"text-align: right;\">\n",
       "      <th></th>\n",
       "      <th>some_col</th>\n",
       "      <th>type</th>\n",
       "      <th>result</th>\n",
       "      <th>start_time</th>\n",
       "    </tr>\n",
       "  </thead>\n",
       "  <tbody>\n",
       "    <tr>\n",
       "      <th>0</th>\n",
       "      <td>A</td>\n",
       "      <td>currency</td>\n",
       "      <td>BTC</td>\n",
       "      <td>2023-08-01 00:00:00</td>\n",
       "    </tr>\n",
       "    <tr>\n",
       "      <th>1</th>\n",
       "      <td>CCC</td>\n",
       "      <td>buy_or_sell</td>\n",
       "      <td>buy</td>\n",
       "      <td>2023-08-02 00:00:03</td>\n",
       "    </tr>\n",
       "    <tr>\n",
       "      <th>2</th>\n",
       "      <td>BBB</td>\n",
       "      <td>amount</td>\n",
       "      <td>0.1</td>\n",
       "      <td>2023-08-03 00:00:06</td>\n",
       "    </tr>\n",
       "  </tbody>\n",
       "</table>\n",
       "</div>"
      ],
      "text/plain": [
       "  some_col         type result          start_time\n",
       "0        A     currency    BTC 2023-08-01 00:00:00\n",
       "1      CCC  buy_or_sell    buy 2023-08-02 00:00:03\n",
       "2      BBB       amount    0.1 2023-08-03 00:00:06"
      ]
     },
     "execution_count": 12,
     "metadata": {},
     "output_type": "execute_result"
    }
   ],
   "source": [
    "df_decision_cycle"
   ]
  },
  {
   "cell_type": "code",
   "execution_count": 13,
   "metadata": {},
   "outputs": [
    {
     "data": {
      "text/html": [
       "<div>\n",
       "<style scoped>\n",
       "    .dataframe tbody tr th:only-of-type {\n",
       "        vertical-align: middle;\n",
       "    }\n",
       "\n",
       "    .dataframe tbody tr th {\n",
       "        vertical-align: top;\n",
       "    }\n",
       "\n",
       "    .dataframe thead th {\n",
       "        text-align: right;\n",
       "    }\n",
       "</style>\n",
       "<table border=\"1\" class=\"dataframe\">\n",
       "  <thead>\n",
       "    <tr style=\"text-align: right;\">\n",
       "      <th></th>\n",
       "      <th>some_col</th>\n",
       "      <th>type</th>\n",
       "      <th>result</th>\n",
       "      <th>start_time</th>\n",
       "      <th>hash</th>\n",
       "    </tr>\n",
       "  </thead>\n",
       "  <tbody>\n",
       "    <tr>\n",
       "      <th>0</th>\n",
       "      <td>A</td>\n",
       "      <td>currency</td>\n",
       "      <td>BTC</td>\n",
       "      <td>2023-08-01 00:00:00</td>\n",
       "      <td>d237caf3201fa7de9387139c5e43d46d</td>\n",
       "    </tr>\n",
       "    <tr>\n",
       "      <th>1</th>\n",
       "      <td>CCC</td>\n",
       "      <td>buy_or_sell</td>\n",
       "      <td>buy</td>\n",
       "      <td>2023-08-02 00:00:03</td>\n",
       "      <td>6bd39e4cb3e887712394d5194f2aff16</td>\n",
       "    </tr>\n",
       "    <tr>\n",
       "      <th>2</th>\n",
       "      <td>BBB</td>\n",
       "      <td>amount</td>\n",
       "      <td>0.1</td>\n",
       "      <td>2023-08-03 00:00:06</td>\n",
       "      <td>9cd29d4c390f0696cb85e395b9005c3b</td>\n",
       "    </tr>\n",
       "  </tbody>\n",
       "</table>\n",
       "</div>"
      ],
      "text/plain": [
       "  some_col         type result          start_time  \\\n",
       "0        A     currency    BTC 2023-08-01 00:00:00   \n",
       "1      CCC  buy_or_sell    buy 2023-08-02 00:00:03   \n",
       "2      BBB       amount    0.1 2023-08-03 00:00:06   \n",
       "\n",
       "                               hash  \n",
       "0  d237caf3201fa7de9387139c5e43d46d  \n",
       "1  6bd39e4cb3e887712394d5194f2aff16  \n",
       "2  9cd29d4c390f0696cb85e395b9005c3b  "
      ]
     },
     "execution_count": 13,
     "metadata": {},
     "output_type": "execute_result"
    }
   ],
   "source": [
    "add_hash_column(df=df_decision_cycle, columns=[\"result\", \"start_time\", ])"
   ]
  },
  {
   "cell_type": "code",
   "execution_count": 3,
   "metadata": {},
   "outputs": [],
   "source": [
    "#%pip install pandas numpy matplotlib seaborn pymysql"
   ]
  },
  {
   "cell_type": "markdown",
   "metadata": {},
   "source": [
    "# Import libraries and constants\n",
    "\n",
    "We also set the default dpi of figures a bit higher and tell pandas to ignore some warnings (setting with copy)."
   ]
  },
  {
   "cell_type": "code",
   "execution_count": 1,
   "metadata": {},
   "outputs": [],
   "source": [
    "from datetime import datetime\n",
    "import matplotlib\n",
    "import matplotlib.pyplot as plt\n",
    "import numpy as np\n",
    "import os\n",
    "import pandas as pd\n",
    "import pymysql\n",
    "import seaborn as sns\n",
    "import sys\n",
    "from typing import Tuple\n",
    "\n",
    "# Add path to source files\n",
    "sys.path.insert(1, os.path.join(sys.path[0], '..'))\n",
    "\n",
    "def load_credentials(filepath: str) -> Tuple[str, str]:\n",
    "    \"\"\"Function to load credentials from a file.\n",
    "\n",
    "    Args:\n",
    "        filepath: Full file path to the credentials file.\n",
    "    \n",
    "    Returns:\n",
    "        (user, password): Tuple of user and password strings.\n",
    "    \"\"\"\n",
    "    with open(filepath) as f:\n",
    "        lines = f.readlines()\n",
    "        f.close()\n",
    "    user = lines[0].split(':')[1].strip()\n",
    "    password = lines[1].split(':')[1].strip()\n",
    "\n",
    "    return (user, password)\n",
    "\n",
    "\n",
    "# Constants\n",
    "from src.python.constants import (\n",
    "    DATABASE,\n",
    "    HOST_REMOTE,\n",
    "    PORT,\n",
    "    TABLE_HAMSTERWHEEL,\n",
    ")\n",
    "\n",
    "matplotlib.rcParams['figure.dpi'] = 200\n",
    "pd.options.mode.chained_assignment = None\n"
   ]
  },
  {
   "cell_type": "markdown",
   "metadata": {},
   "source": [
    "# Connect to the MySQL Database\n",
    "\n",
    "The database is running on the RPi."
   ]
  },
  {
   "cell_type": "code",
   "execution_count": 36,
   "metadata": {},
   "outputs": [
    {
     "name": "stdout",
     "output_type": "stream",
     "text": [
      "<class 'pymysql.connections.Connection'>\n"
     ]
    }
   ],
   "source": [
    "# Load credentials to connect to the database\n",
    "FULL_PATH_TO_CREDENTIALS = './../credentials.cred'\n",
    "user, password = load_credentials(filepath=FULL_PATH_TO_CREDENTIALS)\n",
    "\n",
    "# Create mysql connection\n",
    "mysql_connection = pymysql.connect(\n",
    "    host=HOST_REMOTE,\n",
    "    user=user,\n",
    "    password=password,\n",
    "    db=DATABASE,\n",
    "    port=PORT,\n",
    "    charset='utf8'\n",
    ")\n",
    "print(type(mysql_connection))\n"
   ]
  },
  {
   "cell_type": "code",
   "execution_count": 37,
   "metadata": {},
   "outputs": [
    {
     "data": {
      "text/html": [
       "<div>\n",
       "<style scoped>\n",
       "    .dataframe tbody tr th:only-of-type {\n",
       "        vertical-align: middle;\n",
       "    }\n",
       "\n",
       "    .dataframe tbody tr th {\n",
       "        vertical-align: top;\n",
       "    }\n",
       "\n",
       "    .dataframe thead th {\n",
       "        text-align: right;\n",
       "    }\n",
       "</style>\n",
       "<table border=\"1\" class=\"dataframe\">\n",
       "  <thead>\n",
       "    <tr style=\"text-align: right;\">\n",
       "      <th></th>\n",
       "      <th>currency_symbol</th>\n",
       "      <th>amount</th>\n",
       "    </tr>\n",
       "    <tr>\n",
       "      <th>wallet_id</th>\n",
       "      <th></th>\n",
       "      <th></th>\n",
       "    </tr>\n",
       "  </thead>\n",
       "  <tbody>\n",
       "    <tr>\n",
       "      <th>1</th>\n",
       "      <td>CASH</td>\n",
       "      <td>10000.0</td>\n",
       "    </tr>\n",
       "    <tr>\n",
       "      <th>2</th>\n",
       "      <td>BTC</td>\n",
       "      <td>9999.0</td>\n",
       "    </tr>\n",
       "  </tbody>\n",
       "</table>\n",
       "</div>"
      ],
      "text/plain": [
       "          currency_symbol   amount\n",
       "wallet_id                         \n",
       "1                    CASH  10000.0\n",
       "2                     BTC   9999.0"
      ]
     },
     "execution_count": 37,
     "metadata": {},
     "output_type": "execute_result"
    }
   ],
   "source": [
    "query = f\"SELECT * FROM TEST_wallet\"\n",
    "df = pd.read_sql(\n",
    "    sql=query,\n",
    "    con=mysql_connection,\n",
    "    index_col='wallet_id'\n",
    ")\n",
    "mysql_connection.close()\n",
    "df"
   ]
  },
  {
   "cell_type": "code",
   "execution_count": 45,
   "metadata": {},
   "outputs": [],
   "source": [
    "wallet = {}\n",
    "for item in df.iterrows():\n",
    "    wallet[item[1]['currency_symbol']] = item[1]['amount']"
   ]
  },
  {
   "cell_type": "code",
   "execution_count": 46,
   "metadata": {},
   "outputs": [
    {
     "data": {
      "text/plain": [
       "{'CASH': 10000.0, 'BTC': 9999.0}"
      ]
     },
     "execution_count": 46,
     "metadata": {},
     "output_type": "execute_result"
    }
   ],
   "source": [
    "wallet"
   ]
  },
  {
   "cell_type": "code",
   "execution_count": 14,
   "metadata": {},
   "outputs": [
    {
     "data": {
      "text/plain": [
       "'44'"
      ]
     },
     "execution_count": 14,
     "metadata": {},
     "output_type": "execute_result"
    }
   ],
   "source": [
    "a = df.iloc[-3:, :]\n",
    "m = a['type'] == 'amount'\n",
    "a.loc[m, :].loc[:, 'result'].values[0]"
   ]
  },
  {
   "cell_type": "code",
   "execution_count": 24,
   "metadata": {},
   "outputs": [
    {
     "data": {
      "text/html": [
       "<div>\n",
       "<style scoped>\n",
       "    .dataframe tbody tr th:only-of-type {\n",
       "        vertical-align: middle;\n",
       "    }\n",
       "\n",
       "    .dataframe tbody tr th {\n",
       "        vertical-align: top;\n",
       "    }\n",
       "\n",
       "    .dataframe thead th {\n",
       "        text-align: right;\n",
       "    }\n",
       "</style>\n",
       "<table border=\"1\" class=\"dataframe\">\n",
       "  <thead>\n",
       "    <tr style=\"text-align: right;\">\n",
       "      <th></th>\n",
       "      <th>session_id</th>\n",
       "      <th>type</th>\n",
       "      <th>result</th>\n",
       "      <th>start_time</th>\n",
       "      <th>end_time</th>\n",
       "      <th>hamsterwheel_id_start</th>\n",
       "      <th>hamsterwheel_id_end</th>\n",
       "      <th>wheel_turns</th>\n",
       "    </tr>\n",
       "    <tr>\n",
       "      <th>decision_id</th>\n",
       "      <th></th>\n",
       "      <th></th>\n",
       "      <th></th>\n",
       "      <th></th>\n",
       "      <th></th>\n",
       "      <th></th>\n",
       "      <th></th>\n",
       "      <th></th>\n",
       "    </tr>\n",
       "  </thead>\n",
       "  <tbody>\n",
       "    <tr>\n",
       "      <th>1</th>\n",
       "      <td>1</td>\n",
       "      <td>buy_sell</td>\n",
       "      <td>SELL</td>\n",
       "      <td>2022-06-29 21:19:57.194496</td>\n",
       "      <td>2022-06-29 21:20:09.668662</td>\n",
       "      <td>1488</td>\n",
       "      <td>1499</td>\n",
       "      <td>0</td>\n",
       "    </tr>\n",
       "    <tr>\n",
       "      <th>2</th>\n",
       "      <td>1</td>\n",
       "      <td>currency</td>\n",
       "      <td>eth</td>\n",
       "      <td>2022-06-29 21:20:39.937058</td>\n",
       "      <td>2022-06-29 21:20:49.402386</td>\n",
       "      <td>1503</td>\n",
       "      <td>1510</td>\n",
       "      <td>0</td>\n",
       "    </tr>\n",
       "    <tr>\n",
       "      <th>3</th>\n",
       "      <td>1</td>\n",
       "      <td>amount</td>\n",
       "      <td>100</td>\n",
       "      <td>2022-06-29 21:21:27.857066</td>\n",
       "      <td>2022-06-29 21:22:26.266960</td>\n",
       "      <td>1513</td>\n",
       "      <td>1522</td>\n",
       "      <td>0</td>\n",
       "    </tr>\n",
       "    <tr>\n",
       "      <th>4</th>\n",
       "      <td>1</td>\n",
       "      <td>buy_sell</td>\n",
       "      <td>SELL</td>\n",
       "      <td>2022-06-29 21:22:45.005309</td>\n",
       "      <td>2022-06-29 21:22:52.315279</td>\n",
       "      <td>1525</td>\n",
       "      <td>1530</td>\n",
       "      <td>0</td>\n",
       "    </tr>\n",
       "    <tr>\n",
       "      <th>5</th>\n",
       "      <td>1</td>\n",
       "      <td>currency</td>\n",
       "      <td>eth</td>\n",
       "      <td>2022-06-29 21:22:56.526622</td>\n",
       "      <td>2022-06-29 21:22:58.644119</td>\n",
       "      <td>1533</td>\n",
       "      <td>1534</td>\n",
       "      <td>0</td>\n",
       "    </tr>\n",
       "    <tr>\n",
       "      <th>6</th>\n",
       "      <td>1</td>\n",
       "      <td>amount</td>\n",
       "      <td>100</td>\n",
       "      <td>2022-06-29 21:23:03.853632</td>\n",
       "      <td>2022-06-29 21:23:08.017311</td>\n",
       "      <td>1537</td>\n",
       "      <td>1539</td>\n",
       "      <td>0</td>\n",
       "    </tr>\n",
       "    <tr>\n",
       "      <th>7</th>\n",
       "      <td>1</td>\n",
       "      <td>buy_sell</td>\n",
       "      <td>SELL</td>\n",
       "      <td>2022-06-29 21:23:11.142511</td>\n",
       "      <td>2022-06-29 21:23:26.022293</td>\n",
       "      <td>1543</td>\n",
       "      <td>1556</td>\n",
       "      <td>0</td>\n",
       "    </tr>\n",
       "    <tr>\n",
       "      <th>8</th>\n",
       "      <td>1</td>\n",
       "      <td>currency</td>\n",
       "      <td>eth</td>\n",
       "      <td>2022-06-29 21:23:58.260547</td>\n",
       "      <td>2022-06-29 21:24:48.109928</td>\n",
       "      <td>1559</td>\n",
       "      <td>1567</td>\n",
       "      <td>0</td>\n",
       "    </tr>\n",
       "    <tr>\n",
       "      <th>9</th>\n",
       "      <td>1</td>\n",
       "      <td>amount</td>\n",
       "      <td>100</td>\n",
       "      <td>2022-06-29 21:24:57.485462</td>\n",
       "      <td>2022-06-29 21:25:55.292323</td>\n",
       "      <td>1570</td>\n",
       "      <td>1587</td>\n",
       "      <td>0</td>\n",
       "    </tr>\n",
       "    <tr>\n",
       "      <th>10</th>\n",
       "      <td>1</td>\n",
       "      <td>buy_sell</td>\n",
       "      <td>SELL</td>\n",
       "      <td>2022-06-29 21:25:58.437387</td>\n",
       "      <td>2022-06-29 21:26:52.349279</td>\n",
       "      <td>1594</td>\n",
       "      <td>1608</td>\n",
       "      <td>0</td>\n",
       "    </tr>\n",
       "    <tr>\n",
       "      <th>11</th>\n",
       "      <td>1</td>\n",
       "      <td>currency</td>\n",
       "      <td>eth</td>\n",
       "      <td>2022-06-29 21:27:01.904645</td>\n",
       "      <td>2022-06-29 21:27:59.809746</td>\n",
       "      <td>1612</td>\n",
       "      <td>1619</td>\n",
       "      <td>0</td>\n",
       "    </tr>\n",
       "    <tr>\n",
       "      <th>12</th>\n",
       "      <td>1</td>\n",
       "      <td>amount</td>\n",
       "      <td>4</td>\n",
       "      <td>2022-06-29 21:28:06.067785</td>\n",
       "      <td>2022-06-29 21:28:52.648236</td>\n",
       "      <td>1622</td>\n",
       "      <td>1626</td>\n",
       "      <td>4</td>\n",
       "    </tr>\n",
       "    <tr>\n",
       "      <th>13</th>\n",
       "      <td>1</td>\n",
       "      <td>buy_sell</td>\n",
       "      <td>BUY</td>\n",
       "      <td>2022-06-29 21:28:57.883478</td>\n",
       "      <td>2022-06-29 21:29:11.397292</td>\n",
       "      <td>1629</td>\n",
       "      <td>1640</td>\n",
       "      <td>11</td>\n",
       "    </tr>\n",
       "    <tr>\n",
       "      <th>14</th>\n",
       "      <td>1</td>\n",
       "      <td>currency</td>\n",
       "      <td>btc</td>\n",
       "      <td>2022-06-29 21:29:21.810381</td>\n",
       "      <td>2022-06-29 21:29:28.079846</td>\n",
       "      <td>1643</td>\n",
       "      <td>1648</td>\n",
       "      <td>5</td>\n",
       "    </tr>\n",
       "    <tr>\n",
       "      <th>15</th>\n",
       "      <td>1</td>\n",
       "      <td>amount</td>\n",
       "      <td>4</td>\n",
       "      <td>2022-06-29 21:29:34.291916</td>\n",
       "      <td>2022-06-29 21:29:40.582769</td>\n",
       "      <td>1651</td>\n",
       "      <td>1655</td>\n",
       "      <td>4</td>\n",
       "    </tr>\n",
       "    <tr>\n",
       "      <th>16</th>\n",
       "      <td>1</td>\n",
       "      <td>buy_sell</td>\n",
       "      <td>BUY</td>\n",
       "      <td>2022-06-29 21:29:53.050232</td>\n",
       "      <td>2022-06-29 21:30:05.541541</td>\n",
       "      <td>1658</td>\n",
       "      <td>1669</td>\n",
       "      <td>11</td>\n",
       "    </tr>\n",
       "    <tr>\n",
       "      <th>17</th>\n",
       "      <td>1</td>\n",
       "      <td>currency</td>\n",
       "      <td>eth</td>\n",
       "      <td>2022-06-29 21:30:15.904729</td>\n",
       "      <td>2022-06-29 21:30:29.636722</td>\n",
       "      <td>1672</td>\n",
       "      <td>1684</td>\n",
       "      <td>12</td>\n",
       "    </tr>\n",
       "    <tr>\n",
       "      <th>18</th>\n",
       "      <td>1</td>\n",
       "      <td>amount</td>\n",
       "      <td>10</td>\n",
       "      <td>2022-06-29 21:30:32.779946</td>\n",
       "      <td>2022-06-29 21:30:45.227224</td>\n",
       "      <td>1687</td>\n",
       "      <td>1697</td>\n",
       "      <td>10</td>\n",
       "    </tr>\n",
       "    <tr>\n",
       "      <th>19</th>\n",
       "      <td>1</td>\n",
       "      <td>buy_sell</td>\n",
       "      <td>SELL</td>\n",
       "      <td>2022-06-29 21:31:01.874616</td>\n",
       "      <td>2022-06-29 21:31:15.416455</td>\n",
       "      <td>1700</td>\n",
       "      <td>1712</td>\n",
       "      <td>12</td>\n",
       "    </tr>\n",
       "    <tr>\n",
       "      <th>20</th>\n",
       "      <td>1</td>\n",
       "      <td>currency</td>\n",
       "      <td>btc</td>\n",
       "      <td>2022-06-29 21:31:18.530610</td>\n",
       "      <td>2022-06-29 21:31:58.286524</td>\n",
       "      <td>1715</td>\n",
       "      <td>1753</td>\n",
       "      <td>38</td>\n",
       "    </tr>\n",
       "    <tr>\n",
       "      <th>21</th>\n",
       "      <td>1</td>\n",
       "      <td>amount</td>\n",
       "      <td>44</td>\n",
       "      <td>2022-06-29 21:32:07.650883</td>\n",
       "      <td>2022-06-29 21:32:54.586372</td>\n",
       "      <td>1756</td>\n",
       "      <td>1800</td>\n",
       "      <td>44</td>\n",
       "    </tr>\n",
       "  </tbody>\n",
       "</table>\n",
       "</div>"
      ],
      "text/plain": [
       "             session_id      type result                 start_time  \\\n",
       "decision_id                                                           \n",
       "1                     1  buy_sell   SELL 2022-06-29 21:19:57.194496   \n",
       "2                     1  currency    eth 2022-06-29 21:20:39.937058   \n",
       "3                     1    amount    100 2022-06-29 21:21:27.857066   \n",
       "4                     1  buy_sell   SELL 2022-06-29 21:22:45.005309   \n",
       "5                     1  currency    eth 2022-06-29 21:22:56.526622   \n",
       "6                     1    amount    100 2022-06-29 21:23:03.853632   \n",
       "7                     1  buy_sell   SELL 2022-06-29 21:23:11.142511   \n",
       "8                     1  currency    eth 2022-06-29 21:23:58.260547   \n",
       "9                     1    amount    100 2022-06-29 21:24:57.485462   \n",
       "10                    1  buy_sell   SELL 2022-06-29 21:25:58.437387   \n",
       "11                    1  currency    eth 2022-06-29 21:27:01.904645   \n",
       "12                    1    amount      4 2022-06-29 21:28:06.067785   \n",
       "13                    1  buy_sell    BUY 2022-06-29 21:28:57.883478   \n",
       "14                    1  currency    btc 2022-06-29 21:29:21.810381   \n",
       "15                    1    amount      4 2022-06-29 21:29:34.291916   \n",
       "16                    1  buy_sell    BUY 2022-06-29 21:29:53.050232   \n",
       "17                    1  currency    eth 2022-06-29 21:30:15.904729   \n",
       "18                    1    amount     10 2022-06-29 21:30:32.779946   \n",
       "19                    1  buy_sell   SELL 2022-06-29 21:31:01.874616   \n",
       "20                    1  currency    btc 2022-06-29 21:31:18.530610   \n",
       "21                    1    amount     44 2022-06-29 21:32:07.650883   \n",
       "\n",
       "                              end_time  hamsterwheel_id_start  \\\n",
       "decision_id                                                     \n",
       "1           2022-06-29 21:20:09.668662                   1488   \n",
       "2           2022-06-29 21:20:49.402386                   1503   \n",
       "3           2022-06-29 21:22:26.266960                   1513   \n",
       "4           2022-06-29 21:22:52.315279                   1525   \n",
       "5           2022-06-29 21:22:58.644119                   1533   \n",
       "6           2022-06-29 21:23:08.017311                   1537   \n",
       "7           2022-06-29 21:23:26.022293                   1543   \n",
       "8           2022-06-29 21:24:48.109928                   1559   \n",
       "9           2022-06-29 21:25:55.292323                   1570   \n",
       "10          2022-06-29 21:26:52.349279                   1594   \n",
       "11          2022-06-29 21:27:59.809746                   1612   \n",
       "12          2022-06-29 21:28:52.648236                   1622   \n",
       "13          2022-06-29 21:29:11.397292                   1629   \n",
       "14          2022-06-29 21:29:28.079846                   1643   \n",
       "15          2022-06-29 21:29:40.582769                   1651   \n",
       "16          2022-06-29 21:30:05.541541                   1658   \n",
       "17          2022-06-29 21:30:29.636722                   1672   \n",
       "18          2022-06-29 21:30:45.227224                   1687   \n",
       "19          2022-06-29 21:31:15.416455                   1700   \n",
       "20          2022-06-29 21:31:58.286524                   1715   \n",
       "21          2022-06-29 21:32:54.586372                   1756   \n",
       "\n",
       "             hamsterwheel_id_end  wheel_turns  \n",
       "decision_id                                    \n",
       "1                           1499            0  \n",
       "2                           1510            0  \n",
       "3                           1522            0  \n",
       "4                           1530            0  \n",
       "5                           1534            0  \n",
       "6                           1539            0  \n",
       "7                           1556            0  \n",
       "8                           1567            0  \n",
       "9                           1587            0  \n",
       "10                          1608            0  \n",
       "11                          1619            0  \n",
       "12                          1626            4  \n",
       "13                          1640           11  \n",
       "14                          1648            5  \n",
       "15                          1655            4  \n",
       "16                          1669           11  \n",
       "17                          1684           12  \n",
       "18                          1697           10  \n",
       "19                          1712           12  \n",
       "20                          1753           38  \n",
       "21                          1800           44  "
      ]
     },
     "execution_count": 24,
     "metadata": {},
     "output_type": "execute_result"
    }
   ],
   "source": [
    "df"
   ]
  },
  {
   "cell_type": "code",
   "execution_count": 10,
   "metadata": {},
   "outputs": [
    {
     "name": "stderr",
     "output_type": "stream",
     "text": [
      "c:\\Users\\heiko\\OneDrive\\01_Projects\\31.WilsonCrypto\\repo\\cryptohamster\\env\\lib\\site-packages\\pandas\\io\\sql.py:761: UserWarning: pandas only support SQLAlchemy connectable(engine/connection) ordatabase string URI or sqlite3 DBAPI2 connectionother DBAPI2 objects are not tested, please consider using SQLAlchemy\n",
      "  warnings.warn(\n"
     ]
    }
   ],
   "source": [
    "query = f\"SELECT * FROM TEST_hamsterwheel\"\n",
    "df = pd.read_sql(\n",
    "    sql=query,\n",
    "    con=mysql_connection,\n",
    "    index_col='hamsterwheel_id'\n",
    ")\n",
    "mysql_connection.close()"
   ]
  },
  {
   "cell_type": "markdown",
   "metadata": {},
   "source": [
    "# Check data in the hamsterwheel table\n",
    "\n",
    "The `hamsterhweel` table contains all the measurements where the magnetic sensor triggered a close. The absence of a record in the database means that the sensor was open. "
   ]
  },
  {
   "cell_type": "code",
   "execution_count": 7,
   "metadata": {},
   "outputs": [
    {
     "name": "stderr",
     "output_type": "stream",
     "text": [
      "c:\\Users\\heiko\\OneDrive\\01_Projects\\31.WilsonCrypto\\repo\\cryptohamster\\env\\lib\\site-packages\\pandas\\io\\sql.py:761: UserWarning: pandas only support SQLAlchemy connectable(engine/connection) ordatabase string URI or sqlite3 DBAPI2 connectionother DBAPI2 objects are not tested, please consider using SQLAlchemy\n",
      "  warnings.warn(\n"
     ]
    }
   ],
   "source": [
    "query = f\"SELECT * FROM {TABLE_HAMSTERWHEEL}\"\n",
    "df = pd.read_sql(\n",
    "    sql=query,\n",
    "    con=mysql_connection,\n",
    "    index_col='hamsterwheel_id'\n",
    ")"
   ]
  },
  {
   "cell_type": "markdown",
   "metadata": {},
   "source": [
    "Let's see what the data type is in the table. The time is stored as a datetime object, the flag (is always 1 by default) is an integer."
   ]
  },
  {
   "cell_type": "code",
   "execution_count": 8,
   "metadata": {},
   "outputs": [
    {
     "data": {
      "text/plain": [
       "time    datetime64[ns]\n",
       "flag             int64\n",
       "dtype: object"
      ]
     },
     "execution_count": 8,
     "metadata": {},
     "output_type": "execute_result"
    }
   ],
   "source": [
    "df.dtypes"
   ]
  },
  {
   "cell_type": "markdown",
   "metadata": {},
   "source": [
    "Sorting by the time in descending order shows the latest measurement."
   ]
  },
  {
   "cell_type": "code",
   "execution_count": 9,
   "metadata": {},
   "outputs": [
    {
     "data": {
      "text/html": [
       "<div>\n",
       "<style scoped>\n",
       "    .dataframe tbody tr th:only-of-type {\n",
       "        vertical-align: middle;\n",
       "    }\n",
       "\n",
       "    .dataframe tbody tr th {\n",
       "        vertical-align: top;\n",
       "    }\n",
       "\n",
       "    .dataframe thead th {\n",
       "        text-align: right;\n",
       "    }\n",
       "</style>\n",
       "<table border=\"1\" class=\"dataframe\">\n",
       "  <thead>\n",
       "    <tr style=\"text-align: right;\">\n",
       "      <th></th>\n",
       "      <th>time</th>\n",
       "      <th>flag</th>\n",
       "    </tr>\n",
       "    <tr>\n",
       "      <th>hamsterwheel_id</th>\n",
       "      <th></th>\n",
       "      <th></th>\n",
       "    </tr>\n",
       "  </thead>\n",
       "  <tbody>\n",
       "    <tr>\n",
       "      <th>241185</th>\n",
       "      <td>2022-06-26 01:26:39.968401</td>\n",
       "      <td>1</td>\n",
       "    </tr>\n",
       "    <tr>\n",
       "      <th>241184</th>\n",
       "      <td>2022-06-26 01:26:39.946706</td>\n",
       "      <td>1</td>\n",
       "    </tr>\n",
       "    <tr>\n",
       "      <th>241183</th>\n",
       "      <td>2022-06-26 01:26:39.925458</td>\n",
       "      <td>1</td>\n",
       "    </tr>\n",
       "    <tr>\n",
       "      <th>241182</th>\n",
       "      <td>2022-06-26 01:26:38.089160</td>\n",
       "      <td>1</td>\n",
       "    </tr>\n",
       "    <tr>\n",
       "      <th>241181</th>\n",
       "      <td>2022-06-26 01:26:38.057198</td>\n",
       "      <td>1</td>\n",
       "    </tr>\n",
       "  </tbody>\n",
       "</table>\n",
       "</div>"
      ],
      "text/plain": [
       "                                      time  flag\n",
       "hamsterwheel_id                                 \n",
       "241185          2022-06-26 01:26:39.968401     1\n",
       "241184          2022-06-26 01:26:39.946706     1\n",
       "241183          2022-06-26 01:26:39.925458     1\n",
       "241182          2022-06-26 01:26:38.089160     1\n",
       "241181          2022-06-26 01:26:38.057198     1"
      ]
     },
     "execution_count": 9,
     "metadata": {},
     "output_type": "execute_result"
    }
   ],
   "source": [
    "df.sort_values(by=['time'], ascending=False).head()"
   ]
  },
  {
   "cell_type": "markdown",
   "metadata": {},
   "source": [
    "## Distribution of time between two consecutive readings\n",
    "\n",
    "Let's calculate the difference between two readings of the magnetic sensor. That gives an idea how fast the hamster is usually running. Very long differences mean that the hamster did not run, but the last reading when it stepped of the wheel and the first when it stepped back on. This approach cannot distinguish between two events where the hamster is just running slow and when it stops and steps back on."
   ]
  },
  {
   "cell_type": "code",
   "execution_count": 10,
   "metadata": {},
   "outputs": [
    {
     "name": "stdout",
     "output_type": "stream",
     "text": [
      "(241185, 4)\n"
     ]
    },
    {
     "data": {
      "text/html": [
       "<div>\n",
       "<style scoped>\n",
       "    .dataframe tbody tr th:only-of-type {\n",
       "        vertical-align: middle;\n",
       "    }\n",
       "\n",
       "    .dataframe tbody tr th {\n",
       "        vertical-align: top;\n",
       "    }\n",
       "\n",
       "    .dataframe thead th {\n",
       "        text-align: right;\n",
       "    }\n",
       "</style>\n",
       "<table border=\"1\" class=\"dataframe\">\n",
       "  <thead>\n",
       "    <tr style=\"text-align: right;\">\n",
       "      <th></th>\n",
       "      <th>time</th>\n",
       "      <th>flag</th>\n",
       "      <th>diff</th>\n",
       "      <th>diff_s</th>\n",
       "    </tr>\n",
       "    <tr>\n",
       "      <th>hamsterwheel_id</th>\n",
       "      <th></th>\n",
       "      <th></th>\n",
       "      <th></th>\n",
       "      <th></th>\n",
       "    </tr>\n",
       "  </thead>\n",
       "  <tbody>\n",
       "    <tr>\n",
       "      <th>1</th>\n",
       "      <td>2022-05-31 21:27:47.173574</td>\n",
       "      <td>1</td>\n",
       "      <td>NaT</td>\n",
       "      <td>NaN</td>\n",
       "    </tr>\n",
       "    <tr>\n",
       "      <th>2</th>\n",
       "      <td>2022-05-31 21:27:47.189967</td>\n",
       "      <td>1</td>\n",
       "      <td>0 days 00:00:00.016393</td>\n",
       "      <td>0.016393</td>\n",
       "    </tr>\n",
       "    <tr>\n",
       "      <th>3</th>\n",
       "      <td>2022-05-31 21:27:47.211610</td>\n",
       "      <td>1</td>\n",
       "      <td>0 days 00:00:00.021643</td>\n",
       "      <td>0.021643</td>\n",
       "    </tr>\n",
       "    <tr>\n",
       "      <th>4</th>\n",
       "      <td>2022-05-31 21:27:47.236608</td>\n",
       "      <td>1</td>\n",
       "      <td>0 days 00:00:00.024998</td>\n",
       "      <td>0.024998</td>\n",
       "    </tr>\n",
       "    <tr>\n",
       "      <th>5</th>\n",
       "      <td>2022-05-31 21:31:26.219387</td>\n",
       "      <td>1</td>\n",
       "      <td>0 days 00:03:38.982779</td>\n",
       "      <td>218.982779</td>\n",
       "    </tr>\n",
       "  </tbody>\n",
       "</table>\n",
       "</div>"
      ],
      "text/plain": [
       "                                      time  flag                   diff  \\\n",
       "hamsterwheel_id                                                           \n",
       "1               2022-05-31 21:27:47.173574     1                    NaT   \n",
       "2               2022-05-31 21:27:47.189967     1 0 days 00:00:00.016393   \n",
       "3               2022-05-31 21:27:47.211610     1 0 days 00:00:00.021643   \n",
       "4               2022-05-31 21:27:47.236608     1 0 days 00:00:00.024998   \n",
       "5               2022-05-31 21:31:26.219387     1 0 days 00:03:38.982779   \n",
       "\n",
       "                     diff_s  \n",
       "hamsterwheel_id              \n",
       "1                       NaN  \n",
       "2                  0.016393  \n",
       "3                  0.021643  \n",
       "4                  0.024998  \n",
       "5                218.982779  "
      ]
     },
     "execution_count": 10,
     "metadata": {},
     "output_type": "execute_result"
    }
   ],
   "source": [
    "df['diff'] = (df['time'] - df['time'].shift(1))\n",
    "df['diff_s'] = df['diff'].dt.total_seconds()\n",
    "print(df.shape)\n",
    "df.head()"
   ]
  },
  {
   "cell_type": "markdown",
   "metadata": {},
   "source": [
    "When plotting the native distances as a boxplot, we see that there are a lot of high frequencies and a few long ones. The former - high frequencies - means that the magnetic sensor recorded multiple times a closure when the magnet was passing over it. The very low frequencies (long times between readings) can also be ignored, because here the hamster was not running in the wheel.\n",
    "\n",
    "Let's further refine the plot with a maximum and minimum threshold for the difference in seconds: 0.8 and 12 seconds, respectively."
   ]
  },
  {
   "cell_type": "code",
   "execution_count": 11,
   "metadata": {},
   "outputs": [
    {
     "data": {
      "text/plain": [
       "<AxesSubplot:xlabel='diff_s'>"
      ]
     },
     "execution_count": 11,
     "metadata": {},
     "output_type": "execute_result"
    },
    {
     "data": {
      "image/png": "[encoded data removed]",
      "text/plain": [
       "<Figure size 432x288 with 1 Axes>"
      ]
     },
     "metadata": {
      "needs_background": "light"
     },
     "output_type": "display_data"
    }
   ],
   "source": [
    "sns.boxplot(x=df['diff_s'])"
   ]
  },
  {
   "cell_type": "code",
   "execution_count": 12,
   "metadata": {},
   "outputs": [
    {
     "data": {
      "text/plain": [
       "<AxesSubplot:xlabel='diff_s'>"
      ]
     },
     "execution_count": 12,
     "metadata": {},
     "output_type": "execute_result"
    },
    {
     "data": {
      "image/png": "[encoded data removed]",
      "text/plain": [
       "<Figure size 432x288 with 1 Axes>"
      ]
     },
     "metadata": {
      "needs_background": "light"
     },
     "output_type": "display_data"
    }
   ],
   "source": [
    "sns.boxplot(x=df.loc[df['diff_s'] < 100,'diff_s'])"
   ]
  },
  {
   "cell_type": "code",
   "execution_count": 13,
   "metadata": {},
   "outputs": [
    {
     "name": "stdout",
     "output_type": "stream",
     "text": [
      "We removed 219301 rows by filtering on small and long time differences between wheel readings.\n"
     ]
    }
   ],
   "source": [
    "min_threshold = 0.2\n",
    "max_threshold = 12\n",
    "\n",
    "m = (df['diff_s'] < max_threshold) & (df['diff_s'] > min_threshold)\n",
    "df_cleaned = df.loc[m]\n",
    "\n",
    "n_rem = df.shape[0] - df_cleaned.shape[0]\n",
    "print(f\"We removed {n_rem} rows by filtering on small and long time differences between wheel readings.\")\n"
   ]
  },
  {
   "cell_type": "markdown",
   "metadata": {},
   "source": [
    "Let's plot this new distribution.\n",
    "\n",
    "What we see is that the hamster takes about 1.2 to 2.2 seconds most times when it is running in the wheel. There might be some occasions when it's running much slower (thus more time between readings). As mentioned before, there's no way from the data alone to distinguish between the hamster running very slowly and running and stepping of from the wheel and after a few seconds stepping back on. At least not with the method used to determine the speed in this project.\n",
    "\n",
    "However, that all being said, for our purposes, this will do just fine.\n"
   ]
  },
  {
   "cell_type": "code",
   "execution_count": 14,
   "metadata": {},
   "outputs": [
    {
     "data": {
      "text/plain": [
       "Text(0.5, 0, 'Difference between consecutive readings in seconds')"
      ]
     },
     "execution_count": 14,
     "metadata": {},
     "output_type": "execute_result"
    },
    {
     "data": {
      "image/png": "[encoded data removed]",
      "text/plain": [
       "<Figure size 432x288 with 1 Axes>"
      ]
     },
     "metadata": {
      "needs_background": "light"
     },
     "output_type": "display_data"
    }
   ],
   "source": [
    "sns.histplot(data=df_cleaned, x='diff_s', binwidth=0.1)\n",
    "plt.xlabel('Difference between consecutive readings in seconds')"
   ]
  },
  {
   "cell_type": "code",
   "execution_count": 15,
   "metadata": {},
   "outputs": [
    {
     "data": {
      "text/plain": [
       "Text(0.5, 0, 'Difference between consecutive readings in seconds')"
      ]
     },
     "execution_count": 15,
     "metadata": {},
     "output_type": "execute_result"
    },
    {
     "data": {
      "image/png": "[encoded data removed]",
      "text/plain": [
       "<Figure size 432x288 with 1 Axes>"
      ]
     },
     "metadata": {
      "needs_background": "light"
     },
     "output_type": "display_data"
    }
   ],
   "source": [
    "# Lets see where 95% of the data points fall\n",
    "x_95 = df_cleaned['diff_s'].quantile(.95)\n",
    "\n",
    "plt.axvline(x_95, color='red')\n",
    "plt.text(x_95*1.1, 0.5, s=f'{np.round(x_95, 2)}', color='red')\n",
    "\n",
    "sns.ecdfplot(data=df_cleaned, x='diff_s')\n",
    "plt.xlabel('Difference between consecutive readings in seconds')\n"
   ]
  },
  {
   "cell_type": "markdown",
   "metadata": {},
   "source": [
    "Going back to why we did this investigation in the first place, we wanted to determine the parameters used for the decision process (e.g., timeout between two wheel runs, speed, distance)*. From the data, we conclude the following:\n",
    "\n",
    "We set the timeout between wheel runs to 3.8 seconds. I.e., if the hamster steps back on the wheel within 5 seconds, any decision timer continues to run. If the hamster steps off for more than 3.8 seconds, the decision timer ends and locks a decision in. Again, this approach cannot distinguish between \"slow running\" and \"stepping off the wheel and back on\"."
   ]
  },
  {
   "cell_type": "markdown",
   "metadata": {},
   "source": [
    "# Determine the speed of the hamster and distance traveled\n",
    "\n",
    "Let's for a typical night determine how fast and how far the hamster is running."
   ]
  },
  {
   "cell_type": "code",
   "execution_count": 16,
   "metadata": {},
   "outputs": [
    {
     "data": {
      "text/html": [
       "<div>\n",
       "<style scoped>\n",
       "    .dataframe tbody tr th:only-of-type {\n",
       "        vertical-align: middle;\n",
       "    }\n",
       "\n",
       "    .dataframe tbody tr th {\n",
       "        vertical-align: top;\n",
       "    }\n",
       "\n",
       "    .dataframe thead th {\n",
       "        text-align: right;\n",
       "    }\n",
       "</style>\n",
       "<table border=\"1\" class=\"dataframe\">\n",
       "  <thead>\n",
       "    <tr style=\"text-align: right;\">\n",
       "      <th></th>\n",
       "      <th>time</th>\n",
       "      <th>flag</th>\n",
       "      <th>diff</th>\n",
       "      <th>diff_s</th>\n",
       "    </tr>\n",
       "    <tr>\n",
       "      <th>hamsterwheel_id</th>\n",
       "      <th></th>\n",
       "      <th></th>\n",
       "      <th></th>\n",
       "      <th></th>\n",
       "    </tr>\n",
       "  </thead>\n",
       "  <tbody>\n",
       "  </tbody>\n",
       "</table>\n",
       "</div>"
      ],
      "text/plain": [
       "Empty DataFrame\n",
       "Columns: [time, flag, diff, diff_s]\n",
       "Index: []"
      ]
     },
     "execution_count": 16,
     "metadata": {},
     "output_type": "execute_result"
    }
   ],
   "source": [
    "WHEELSIZE = 30  # cm\n",
    "last_30s = df_cleaned[ df_cleaned['time'] >= datetime.now() - pd.Timedelta(seconds=30)]\n",
    "last_30s\n"
   ]
  },
  {
   "cell_type": "code",
   "execution_count": 17,
   "metadata": {},
   "outputs": [
    {
     "data": {
      "text/plain": [
       "nan"
      ]
     },
     "execution_count": 17,
     "metadata": {},
     "output_type": "execute_result"
    }
   ],
   "source": [
    "# mean time diff\n",
    "time_diff = last_30s['diff_s'].mean()\n",
    "speed_cm_s = WHEELSIZE * 2 * np.pi/time_diff\n",
    "speed_km_h = 60*60*speed_cm_s/100/1000\n",
    "speed_km_h"
   ]
  },
  {
   "cell_type": "code",
   "execution_count": 18,
   "metadata": {},
   "outputs": [],
   "source": [
    "distance = WHEELSIZE * 2 * np.pi\n",
    "df_cleaned['avg_speed'] = distance/df_cleaned['diff_s'].rolling(5).mean()\n",
    "# convert to km/h\n",
    "df_cleaned['avg_speed'] = 60*60*df_cleaned['avg_speed']/100/1000"
   ]
  },
  {
   "cell_type": "code",
   "execution_count": 19,
   "metadata": {},
   "outputs": [
    {
     "data": {
      "text/html": [
       "<div>\n",
       "<style scoped>\n",
       "    .dataframe tbody tr th:only-of-type {\n",
       "        vertical-align: middle;\n",
       "    }\n",
       "\n",
       "    .dataframe tbody tr th {\n",
       "        vertical-align: top;\n",
       "    }\n",
       "\n",
       "    .dataframe thead th {\n",
       "        text-align: right;\n",
       "    }\n",
       "</style>\n",
       "<table border=\"1\" class=\"dataframe\">\n",
       "  <thead>\n",
       "    <tr style=\"text-align: right;\">\n",
       "      <th></th>\n",
       "      <th>time</th>\n",
       "      <th>flag</th>\n",
       "      <th>diff</th>\n",
       "      <th>diff_s</th>\n",
       "      <th>avg_speed</th>\n",
       "    </tr>\n",
       "    <tr>\n",
       "      <th>hamsterwheel_id</th>\n",
       "      <th></th>\n",
       "      <th></th>\n",
       "      <th></th>\n",
       "      <th></th>\n",
       "      <th></th>\n",
       "    </tr>\n",
       "  </thead>\n",
       "  <tbody>\n",
       "    <tr>\n",
       "      <th>7</th>\n",
       "      <td>2022-05-31 21:31:31.370770</td>\n",
       "      <td>1</td>\n",
       "      <td>0 days 00:00:05.135326</td>\n",
       "      <td>5.135326</td>\n",
       "      <td>NaN</td>\n",
       "    </tr>\n",
       "    <tr>\n",
       "      <th>10</th>\n",
       "      <td>2022-05-31 21:31:33.465190</td>\n",
       "      <td>1</td>\n",
       "      <td>0 days 00:00:02.051821</td>\n",
       "      <td>2.051821</td>\n",
       "      <td>NaN</td>\n",
       "    </tr>\n",
       "    <tr>\n",
       "      <th>12</th>\n",
       "      <td>2022-05-31 21:31:35.643069</td>\n",
       "      <td>1</td>\n",
       "      <td>0 days 00:00:02.156843</td>\n",
       "      <td>2.156843</td>\n",
       "      <td>NaN</td>\n",
       "    </tr>\n",
       "    <tr>\n",
       "      <th>14</th>\n",
       "      <td>2022-05-31 21:31:37.790426</td>\n",
       "      <td>1</td>\n",
       "      <td>0 days 00:00:02.126198</td>\n",
       "      <td>2.126198</td>\n",
       "      <td>NaN</td>\n",
       "    </tr>\n",
       "    <tr>\n",
       "      <th>17</th>\n",
       "      <td>2022-05-31 21:32:00.884976</td>\n",
       "      <td>1</td>\n",
       "      <td>0 days 00:00:01.744236</td>\n",
       "      <td>1.744236</td>\n",
       "      <td>2.567588</td>\n",
       "    </tr>\n",
       "    <tr>\n",
       "      <th>...</th>\n",
       "      <td>...</td>\n",
       "      <td>...</td>\n",
       "      <td>...</td>\n",
       "      <td>...</td>\n",
       "      <td>...</td>\n",
       "    </tr>\n",
       "    <tr>\n",
       "      <th>241173</th>\n",
       "      <td>2022-06-26 01:26:32.284103</td>\n",
       "      <td>1</td>\n",
       "      <td>0 days 00:00:01.765799</td>\n",
       "      <td>1.765799</td>\n",
       "      <td>2.498369</td>\n",
       "    </tr>\n",
       "    <tr>\n",
       "      <th>241176</th>\n",
       "      <td>2022-06-26 01:26:34.172728</td>\n",
       "      <td>1</td>\n",
       "      <td>0 days 00:00:01.845821</td>\n",
       "      <td>1.845821</td>\n",
       "      <td>2.951612</td>\n",
       "    </tr>\n",
       "    <tr>\n",
       "      <th>241179</th>\n",
       "      <td>2022-06-26 01:26:36.060824</td>\n",
       "      <td>1</td>\n",
       "      <td>0 days 00:00:01.844631</td>\n",
       "      <td>1.844631</td>\n",
       "      <td>3.586937</td>\n",
       "    </tr>\n",
       "    <tr>\n",
       "      <th>241181</th>\n",
       "      <td>2022-06-26 01:26:38.057198</td>\n",
       "      <td>1</td>\n",
       "      <td>0 days 00:00:01.974997</td>\n",
       "      <td>1.974997</td>\n",
       "      <td>3.699142</td>\n",
       "    </tr>\n",
       "    <tr>\n",
       "      <th>241183</th>\n",
       "      <td>2022-06-26 01:26:39.925458</td>\n",
       "      <td>1</td>\n",
       "      <td>0 days 00:00:01.836298</td>\n",
       "      <td>1.836298</td>\n",
       "      <td>3.661077</td>\n",
       "    </tr>\n",
       "  </tbody>\n",
       "</table>\n",
       "<p>21884 rows × 5 columns</p>\n",
       "</div>"
      ],
      "text/plain": [
       "                                      time  flag                   diff  \\\n",
       "hamsterwheel_id                                                           \n",
       "7               2022-05-31 21:31:31.370770     1 0 days 00:00:05.135326   \n",
       "10              2022-05-31 21:31:33.465190     1 0 days 00:00:02.051821   \n",
       "12              2022-05-31 21:31:35.643069     1 0 days 00:00:02.156843   \n",
       "14              2022-05-31 21:31:37.790426     1 0 days 00:00:02.126198   \n",
       "17              2022-05-31 21:32:00.884976     1 0 days 00:00:01.744236   \n",
       "...                                    ...   ...                    ...   \n",
       "241173          2022-06-26 01:26:32.284103     1 0 days 00:00:01.765799   \n",
       "241176          2022-06-26 01:26:34.172728     1 0 days 00:00:01.845821   \n",
       "241179          2022-06-26 01:26:36.060824     1 0 days 00:00:01.844631   \n",
       "241181          2022-06-26 01:26:38.057198     1 0 days 00:00:01.974997   \n",
       "241183          2022-06-26 01:26:39.925458     1 0 days 00:00:01.836298   \n",
       "\n",
       "                   diff_s  avg_speed  \n",
       "hamsterwheel_id                       \n",
       "7                5.135326        NaN  \n",
       "10               2.051821        NaN  \n",
       "12               2.156843        NaN  \n",
       "14               2.126198        NaN  \n",
       "17               1.744236   2.567588  \n",
       "...                   ...        ...  \n",
       "241173           1.765799   2.498369  \n",
       "241176           1.845821   2.951612  \n",
       "241179           1.844631   3.586937  \n",
       "241181           1.974997   3.699142  \n",
       "241183           1.836298   3.661077  \n",
       "\n",
       "[21884 rows x 5 columns]"
      ]
     },
     "execution_count": 19,
     "metadata": {},
     "output_type": "execute_result"
    }
   ],
   "source": [
    "df_cleaned"
   ]
  },
  {
   "cell_type": "code",
   "execution_count": 20,
   "metadata": {},
   "outputs": [
    {
     "data": {
      "text/plain": [
       "<AxesSubplot:xlabel='time'>"
      ]
     },
     "execution_count": 20,
     "metadata": {},
     "output_type": "execute_result"
    },
    {
     "data": {
      "image/png": "[encoded data removed]",
      "text/plain": [
       "<Figure size 432x288 with 1 Axes>"
      ]
     },
     "metadata": {
      "needs_background": "light"
     },
     "output_type": "display_data"
    }
   ],
   "source": [
    "plot_speed = df_cleaned.set_index('time')\n",
    "plot_speed.loc['2022-05-31 22:38:00': ,'avg_speed'].plot()"
   ]
  },
  {
   "cell_type": "code",
   "execution_count": 21,
   "metadata": {},
   "outputs": [
    {
     "data": {
      "text/plain": [
       "<AxesSubplot:xlabel='time'>"
      ]
     },
     "execution_count": 21,
     "metadata": {},
     "output_type": "execute_result"
    },
    {
     "data": {
      "image/png": "[encoded data removed]",
      "text/plain": [
       "<Figure size 432x288 with 1 Axes>"
      ]
     },
     "metadata": {
      "needs_background": "light"
     },
     "output_type": "display_data"
    }
   ],
   "source": [
    "plot_speed = df_cleaned.set_index('time')\n",
    "plot_speed.loc['2022-06-01 20:00 21:00:00': ,'avg_speed'].plot()"
   ]
  },
  {
   "cell_type": "code",
   "execution_count": 22,
   "metadata": {},
   "outputs": [
    {
     "data": {
      "text/plain": [
       "<AxesSubplot:xlabel='time'>"
      ]
     },
     "execution_count": 22,
     "metadata": {},
     "output_type": "execute_result"
    },
    {
     "data": {
      "image/png": "[encoded data removed]",
      "text/plain": [
       "<Figure size 432x288 with 1 Axes>"
      ]
     },
     "metadata": {
      "needs_background": "light"
     },
     "output_type": "display_data"
    }
   ],
   "source": [
    "# distance in m\n",
    "df_cleaned['distance'] = df_cleaned.reset_index().index * WHEELSIZE * np.pi * 2 / 100\n",
    "plot_speed = df_cleaned.set_index('time')\n",
    "plot_speed.loc['2022-06-05 20:00':,'distance'].plot()"
   ]
  },
  {
   "cell_type": "code",
   "execution_count": 23,
   "metadata": {},
   "outputs": [
    {
     "data": {
      "text/html": [
       "<div>\n",
       "<style scoped>\n",
       "    .dataframe tbody tr th:only-of-type {\n",
       "        vertical-align: middle;\n",
       "    }\n",
       "\n",
       "    .dataframe tbody tr th {\n",
       "        vertical-align: top;\n",
       "    }\n",
       "\n",
       "    .dataframe thead th {\n",
       "        text-align: right;\n",
       "    }\n",
       "</style>\n",
       "<table border=\"1\" class=\"dataframe\">\n",
       "  <thead>\n",
       "    <tr style=\"text-align: right;\">\n",
       "      <th></th>\n",
       "      <th>time</th>\n",
       "      <th>flag</th>\n",
       "      <th>diff</th>\n",
       "      <th>diff_s</th>\n",
       "      <th>avg_speed</th>\n",
       "      <th>distance</th>\n",
       "    </tr>\n",
       "    <tr>\n",
       "      <th>hamsterwheel_id</th>\n",
       "      <th></th>\n",
       "      <th></th>\n",
       "      <th></th>\n",
       "      <th></th>\n",
       "      <th></th>\n",
       "      <th></th>\n",
       "    </tr>\n",
       "  </thead>\n",
       "  <tbody>\n",
       "    <tr>\n",
       "      <th>7</th>\n",
       "      <td>2022-05-31 21:31:31.370770</td>\n",
       "      <td>1</td>\n",
       "      <td>0 days 00:00:05.135326</td>\n",
       "      <td>5.135326</td>\n",
       "      <td>NaN</td>\n",
       "      <td>0.000000</td>\n",
       "    </tr>\n",
       "    <tr>\n",
       "      <th>10</th>\n",
       "      <td>2022-05-31 21:31:33.465190</td>\n",
       "      <td>1</td>\n",
       "      <td>0 days 00:00:02.051821</td>\n",
       "      <td>2.051821</td>\n",
       "      <td>NaN</td>\n",
       "      <td>1.884956</td>\n",
       "    </tr>\n",
       "    <tr>\n",
       "      <th>12</th>\n",
       "      <td>2022-05-31 21:31:35.643069</td>\n",
       "      <td>1</td>\n",
       "      <td>0 days 00:00:02.156843</td>\n",
       "      <td>2.156843</td>\n",
       "      <td>NaN</td>\n",
       "      <td>3.769911</td>\n",
       "    </tr>\n",
       "    <tr>\n",
       "      <th>14</th>\n",
       "      <td>2022-05-31 21:31:37.790426</td>\n",
       "      <td>1</td>\n",
       "      <td>0 days 00:00:02.126198</td>\n",
       "      <td>2.126198</td>\n",
       "      <td>NaN</td>\n",
       "      <td>5.654867</td>\n",
       "    </tr>\n",
       "    <tr>\n",
       "      <th>17</th>\n",
       "      <td>2022-05-31 21:32:00.884976</td>\n",
       "      <td>1</td>\n",
       "      <td>0 days 00:00:01.744236</td>\n",
       "      <td>1.744236</td>\n",
       "      <td>2.567588</td>\n",
       "      <td>7.539822</td>\n",
       "    </tr>\n",
       "    <tr>\n",
       "      <th>...</th>\n",
       "      <td>...</td>\n",
       "      <td>...</td>\n",
       "      <td>...</td>\n",
       "      <td>...</td>\n",
       "      <td>...</td>\n",
       "      <td>...</td>\n",
       "    </tr>\n",
       "    <tr>\n",
       "      <th>241173</th>\n",
       "      <td>2022-06-26 01:26:32.284103</td>\n",
       "      <td>1</td>\n",
       "      <td>0 days 00:00:01.765799</td>\n",
       "      <td>1.765799</td>\n",
       "      <td>2.498369</td>\n",
       "      <td>41240.943401</td>\n",
       "    </tr>\n",
       "    <tr>\n",
       "      <th>241176</th>\n",
       "      <td>2022-06-26 01:26:34.172728</td>\n",
       "      <td>1</td>\n",
       "      <td>0 days 00:00:01.845821</td>\n",
       "      <td>1.845821</td>\n",
       "      <td>2.951612</td>\n",
       "      <td>41242.828356</td>\n",
       "    </tr>\n",
       "    <tr>\n",
       "      <th>241179</th>\n",
       "      <td>2022-06-26 01:26:36.060824</td>\n",
       "      <td>1</td>\n",
       "      <td>0 days 00:00:01.844631</td>\n",
       "      <td>1.844631</td>\n",
       "      <td>3.586937</td>\n",
       "      <td>41244.713312</td>\n",
       "    </tr>\n",
       "    <tr>\n",
       "      <th>241181</th>\n",
       "      <td>2022-06-26 01:26:38.057198</td>\n",
       "      <td>1</td>\n",
       "      <td>0 days 00:00:01.974997</td>\n",
       "      <td>1.974997</td>\n",
       "      <td>3.699142</td>\n",
       "      <td>41246.598268</td>\n",
       "    </tr>\n",
       "    <tr>\n",
       "      <th>241183</th>\n",
       "      <td>2022-06-26 01:26:39.925458</td>\n",
       "      <td>1</td>\n",
       "      <td>0 days 00:00:01.836298</td>\n",
       "      <td>1.836298</td>\n",
       "      <td>3.661077</td>\n",
       "      <td>41248.483223</td>\n",
       "    </tr>\n",
       "  </tbody>\n",
       "</table>\n",
       "<p>21884 rows × 6 columns</p>\n",
       "</div>"
      ],
      "text/plain": [
       "                                      time  flag                   diff  \\\n",
       "hamsterwheel_id                                                           \n",
       "7               2022-05-31 21:31:31.370770     1 0 days 00:00:05.135326   \n",
       "10              2022-05-31 21:31:33.465190     1 0 days 00:00:02.051821   \n",
       "12              2022-05-31 21:31:35.643069     1 0 days 00:00:02.156843   \n",
       "14              2022-05-31 21:31:37.790426     1 0 days 00:00:02.126198   \n",
       "17              2022-05-31 21:32:00.884976     1 0 days 00:00:01.744236   \n",
       "...                                    ...   ...                    ...   \n",
       "241173          2022-06-26 01:26:32.284103     1 0 days 00:00:01.765799   \n",
       "241176          2022-06-26 01:26:34.172728     1 0 days 00:00:01.845821   \n",
       "241179          2022-06-26 01:26:36.060824     1 0 days 00:00:01.844631   \n",
       "241181          2022-06-26 01:26:38.057198     1 0 days 00:00:01.974997   \n",
       "241183          2022-06-26 01:26:39.925458     1 0 days 00:00:01.836298   \n",
       "\n",
       "                   diff_s  avg_speed      distance  \n",
       "hamsterwheel_id                                     \n",
       "7                5.135326        NaN      0.000000  \n",
       "10               2.051821        NaN      1.884956  \n",
       "12               2.156843        NaN      3.769911  \n",
       "14               2.126198        NaN      5.654867  \n",
       "17               1.744236   2.567588      7.539822  \n",
       "...                   ...        ...           ...  \n",
       "241173           1.765799   2.498369  41240.943401  \n",
       "241176           1.845821   2.951612  41242.828356  \n",
       "241179           1.844631   3.586937  41244.713312  \n",
       "241181           1.974997   3.699142  41246.598268  \n",
       "241183           1.836298   3.661077  41248.483223  \n",
       "\n",
       "[21884 rows x 6 columns]"
      ]
     },
     "execution_count": 23,
     "metadata": {},
     "output_type": "execute_result"
    }
   ],
   "source": [
    "df_cleaned"
   ]
  },
  {
   "cell_type": "code",
   "execution_count": 24,
   "metadata": {},
   "outputs": [
    {
     "name": "stdout",
     "output_type": "stream",
     "text": [
      "Wilson ran 3402.34 m between 2022-06-05 20:00 and 2022-06-06 12:00\n"
     ]
    },
    {
     "data": {
      "image/png": "[encoded data removed]",
      "text/plain": [
       "<Figure size 432x288 with 1 Axes>"
      ]
     },
     "metadata": {
      "needs_background": "light"
     },
     "output_type": "display_data"
    }
   ],
   "source": [
    "# distance in m\n",
    "start = '2022-06-05 20:00'\n",
    "end = '2022-06-06 12:00'\n",
    "\n",
    "df_day = df_cleaned.set_index('time').loc[start:end, :]\n",
    "df_day['distance'] = df_day.reset_index().index * WHEELSIZE * np.pi * 2 / 100\n",
    "\n",
    "df_day.loc[:,'distance'].plot()\n",
    "daily_distance = df_day['distance'].iloc[-1]\n",
    "print(f'Wilson ran {daily_distance:.2f} m between {start} and {end}')"
   ]
  },
  {
   "cell_type": "code",
   "execution_count": 25,
   "metadata": {},
   "outputs": [
    {
     "name": "stdout",
     "output_type": "stream",
     "text": [
      "Wilson ran 725.71 m between 2022-06-06 20:00 and 2022-06-07 12:00\n"
     ]
    },
    {
     "data": {
      "image/png": "[encoded data removed]",
      "text/plain": [
       "<Figure size 432x288 with 1 Axes>"
      ]
     },
     "metadata": {
      "needs_background": "light"
     },
     "output_type": "display_data"
    }
   ],
   "source": [
    "# distance in m\n",
    "start = '2022-06-06 20:00'\n",
    "end = '2022-06-07 12:00'\n",
    "\n",
    "df_day = df_cleaned.set_index('time').loc[start:end, :]\n",
    "df_day['distance'] = df_day.reset_index().index * WHEELSIZE * np.pi * 2 / 100\n",
    "\n",
    "df_day.loc[:,'distance'].plot()\n",
    "daily_distance = df_day['distance'].iloc[-1]\n",
    "print(f'Wilson ran {daily_distance:.2f} m between {start} and {end}')"
   ]
  },
  {
   "cell_type": "code",
   "execution_count": 26,
   "metadata": {},
   "outputs": [
    {
     "name": "stdout",
     "output_type": "stream",
     "text": [
      "Wilson ran 1228.99 m between 2022-06-07 20:00 and 2022-06-08 12:00\n"
     ]
    },
    {
     "data": {
      "image/png": "[encoded data removed]",
      "text/plain": [
       "<Figure size 432x288 with 1 Axes>"
      ]
     },
     "metadata": {
      "needs_background": "light"
     },
     "output_type": "display_data"
    }
   ],
   "source": [
    "# distance in m\n",
    "start = '2022-06-07 20:00'\n",
    "end = '2022-06-08 12:00'\n",
    "\n",
    "df_day = df_cleaned.set_index('time').loc[start:end, :]\n",
    "df_day['distance'] = df_day.reset_index().index * WHEELSIZE * np.pi * 2 / 100\n",
    "\n",
    "df_day.loc[:,'distance'].plot()\n",
    "daily_distance = df_day['distance'].iloc[-1]\n",
    "print(f'Wilson ran {daily_distance:.2f} m between {start} and {end}')"
   ]
  },
  {
   "cell_type": "code",
   "execution_count": 27,
   "metadata": {},
   "outputs": [
    {
     "name": "stdout",
     "output_type": "stream",
     "text": [
      "Wilson ran 2474.95 m between 2022-06-08 20:00 and 2022-06-09 12:00\n"
     ]
    },
    {
     "data": {
      "image/png": "[encoded data removed]",
      "text/plain": [
       "<Figure size 432x288 with 1 Axes>"
      ]
     },
     "metadata": {
      "needs_background": "light"
     },
     "output_type": "display_data"
    }
   ],
   "source": [
    "# distance in m\n",
    "start = '2022-06-08 20:00'\n",
    "end = '2022-06-09 12:00'\n",
    "\n",
    "df_day = df_cleaned.set_index('time').loc[start:end, :]\n",
    "df_day['distance'] = df_day.reset_index().index * WHEELSIZE * np.pi * 2 / 100\n",
    "\n",
    "df_day.loc[:,'distance'].plot()\n",
    "daily_distance = df_day['distance'].iloc[-1]\n",
    "print(f'Wilson ran {daily_distance:.2f} m between {start} and {end}')"
   ]
  },
  {
   "cell_type": "code",
   "execution_count": 28,
   "metadata": {},
   "outputs": [
    {
     "name": "stdout",
     "output_type": "stream",
     "text": [
      "Wilson ran 3319.41 m between 2022-06-09 20:00 and 2022-06-10 12:00\n"
     ]
    },
    {
     "data": {
      "image/png": "[encoded data removed]",
      "text/plain": [
       "<Figure size 432x288 with 1 Axes>"
      ]
     },
     "metadata": {
      "needs_background": "light"
     },
     "output_type": "display_data"
    }
   ],
   "source": [
    "# distance in m\n",
    "start = '2022-06-09 20:00'\n",
    "end = '2022-06-10 12:00'\n",
    "\n",
    "df_day = df_cleaned.set_index('time').loc[start:end, :]\n",
    "df_day['distance'] = df_day.reset_index().index * WHEELSIZE * np.pi * 2 / 100\n",
    "\n",
    "df_day.loc[:,'distance'].plot()\n",
    "daily_distance = df_day['distance'].iloc[-1]\n",
    "print(f'Wilson ran {daily_distance:.2f} m between {start} and {end}')"
   ]
  },
  {
   "cell_type": "code",
   "execution_count": 29,
   "metadata": {},
   "outputs": [
    {
     "name": "stdout",
     "output_type": "stream",
     "text": [
      "Wilson ran 1438.22 m between 2022-06-10 20:00 and 2022-06-11 12:00\n"
     ]
    },
    {
     "data": {
      "image/png": "[encoded data removed]",
      "text/plain": [
       "<Figure size 432x288 with 1 Axes>"
      ]
     },
     "metadata": {
      "needs_background": "light"
     },
     "output_type": "display_data"
    }
   ],
   "source": [
    "# distance in m\n",
    "start = '2022-06-10 20:00'\n",
    "end = '2022-06-11 12:00'\n",
    "\n",
    "df_day = df_cleaned.set_index('time').loc[start:end, :]\n",
    "df_day['distance'] = df_day.reset_index().index * WHEELSIZE * np.pi * 2 / 100\n",
    "\n",
    "df_day.loc[:,'distance'].plot()\n",
    "daily_distance = df_day['distance'].iloc[-1]\n",
    "print(f'Wilson ran {daily_distance:.2f} m between {start} and {end}')"
   ]
  },
  {
   "cell_type": "code",
   "execution_count": 30,
   "metadata": {},
   "outputs": [
    {
     "name": "stdout",
     "output_type": "stream",
     "text": [
      "Wilson ran 853.88 m between 2022-06-11 20:00 and 2022-06-12 12:00\n"
     ]
    },
    {
     "data": {
      "image/png": "[encoded data removed]",
      "text/plain": [
       "<Figure size 432x288 with 1 Axes>"
      ]
     },
     "metadata": {
      "needs_background": "light"
     },
     "output_type": "display_data"
    }
   ],
   "source": [
    "# distance in m\n",
    "start = '2022-06-11 20:00'\n",
    "end = '2022-06-12 12:00'\n",
    "\n",
    "df_day = df_cleaned.set_index('time').loc[start:end, :]\n",
    "df_day['distance'] = df_day.reset_index().index * WHEELSIZE * np.pi * 2 / 100\n",
    "\n",
    "df_day.loc[:,'distance'].plot()\n",
    "daily_distance = df_day['distance'].iloc[-1]\n",
    "print(f'Wilson ran {daily_distance:.2f} m between {start} and {end}')"
   ]
  },
  {
   "cell_type": "code",
   "execution_count": 31,
   "metadata": {},
   "outputs": [
    {
     "name": "stdout",
     "output_type": "stream",
     "text": [
      "Wilson ran 1719.08 m between 2022-06-12 20:00 and 2022-06-13 12:00\n"
     ]
    },
    {
     "data": {
      "image/png": "[encoded data removed]",
      "text/plain": [
       "<Figure size 432x288 with 1 Axes>"
      ]
     },
     "metadata": {
      "needs_background": "light"
     },
     "output_type": "display_data"
    }
   ],
   "source": [
    "# distance in m\n",
    "start = '2022-06-12 20:00'\n",
    "end = '2022-06-13 12:00'\n",
    "\n",
    "df_day = df_cleaned.set_index('time').loc[start:end, :]\n",
    "df_day['distance'] = df_day.reset_index().index * WHEELSIZE * np.pi * 2 / 100\n",
    "\n",
    "df_day.loc[:,'distance'].plot()\n",
    "daily_distance = df_day['distance'].iloc[-1]\n",
    "print(f'Wilson ran {daily_distance:.2f} m between {start} and {end}')"
   ]
  },
  {
   "cell_type": "code",
   "execution_count": 32,
   "metadata": {},
   "outputs": [
    {
     "name": "stdout",
     "output_type": "stream",
     "text": [
      "Wilson ran 358.14 m between 2022-06-19 20:00 and 2022-06-20 12:00\n"
     ]
    },
    {
     "data": {
      "image/png": "[encoded data removed]",
      "text/plain": [
       "<Figure size 432x288 with 1 Axes>"
      ]
     },
     "metadata": {
      "needs_background": "light"
     },
     "output_type": "display_data"
    }
   ],
   "source": [
    "# distance in m\n",
    "start = '2022-06-19 20:00'\n",
    "end = '2022-06-20 12:00'\n",
    "\n",
    "df_day = df_cleaned.set_index('time').loc[start:end, :]\n",
    "df_day['distance'] = df_day.reset_index().index * WHEELSIZE * np.pi * 2 / 100\n",
    "\n",
    "df_day.loc[:,'distance'].plot()\n",
    "daily_distance = df_day['distance'].iloc[-1]\n",
    "print(f'Wilson ran {daily_distance:.2f} m between {start} and {end}')"
   ]
  },
  {
   "cell_type": "code",
   "execution_count": 35,
   "metadata": {},
   "outputs": [
    {
     "data": {
      "text/plain": [
       "[1, 2, 3]"
      ]
     },
     "execution_count": 35,
     "metadata": {},
     "output_type": "execute_result"
    }
   ],
   "source": [
    "l = []\n",
    "l.append(1)\n",
    "l.append(2)\n",
    "l.append(3)\n",
    "l"
   ]
  },
  {
   "cell_type": "code",
   "execution_count": 36,
   "metadata": {},
   "outputs": [
    {
     "data": {
      "text/plain": [
       "1"
      ]
     },
     "execution_count": 36,
     "metadata": {},
     "output_type": "execute_result"
    }
   ],
   "source": [
    "l.pop(0)"
   ]
  },
  {
   "cell_type": "code",
   "execution_count": 37,
   "metadata": {},
   "outputs": [
    {
     "data": {
      "text/plain": [
       "[2, 3]"
      ]
     },
     "execution_count": 37,
     "metadata": {},
     "output_type": "execute_result"
    }
   ],
   "source": [
    "l"
   ]
  },
  {
   "cell_type": "code",
   "execution_count": 38,
   "metadata": {},
   "outputs": [],
   "source": [
    "l.append(4)"
   ]
  },
  {
   "cell_type": "code",
   "execution_count": 39,
   "metadata": {},
   "outputs": [
    {
     "data": {
      "text/plain": [
       "[2, 3, 4]"
      ]
     },
     "execution_count": 39,
     "metadata": {},
     "output_type": "execute_result"
    }
   ],
   "source": [
    "l"
   ]
  },
  {
   "cell_type": "code",
   "execution_count": 44,
   "metadata": {},
   "outputs": [
    {
     "data": {
      "text/plain": [
       "numpy.int64"
      ]
     },
     "execution_count": 44,
     "metadata": {},
     "output_type": "execute_result"
    }
   ],
   "source": [
    "type(df.index[-1])"
   ]
  },
  {
   "cell_type": "code",
   "execution_count": 45,
   "metadata": {},
   "outputs": [
    {
     "data": {
      "text/plain": [
       "[2, 3, 4]"
      ]
     },
     "execution_count": 45,
     "metadata": {},
     "output_type": "execute_result"
    }
   ],
   "source": [
    "def add_l(item):\n",
    "    l.append(item)\n",
    "\n",
    "l"
   ]
  },
  {
   "cell_type": "code",
   "execution_count": 46,
   "metadata": {},
   "outputs": [
    {
     "data": {
      "text/plain": [
       "[2, 3, 4, 10]"
      ]
     },
     "execution_count": 46,
     "metadata": {},
     "output_type": "execute_result"
    }
   ],
   "source": [
    "add_l(10)\n",
    "l"
   ]
  },
  {
   "cell_type": "code",
   "execution_count": 140,
   "metadata": {},
   "outputs": [],
   "source": [
    "hamsterwheel_readings = []\n",
    "\n",
    "def is_hamster_running(\n",
    "    latest_hamsterwheel: pd.core.series.Series,\n",
    "    ) -> bool:\n",
    "    \"\"\"Function to determine if the hamster is running or not.\n",
    "    \n",
    "    Args:\n",
    "        latest_hamsterwheel: Latest reading of the hamsterwheel id table.\n",
    "    \n",
    "    Returns:\n",
    "        True if last three readings in the while Loop are different, False otherwise.\n",
    "    \"\"\"\n",
    "    latest_id = latest_hamsterwheel.name\n",
    "\n",
    "    if len(hamsterwheel_readings) == 3:\n",
    "        # 3 readings acquired\n",
    "        if (hamsterwheel_readings[0] < hamsterwheel_readings[1]) & (hamsterwheel_readings[1] < hamsterwheel_readings[2]):\n",
    "            # Add the next reading\n",
    "            hamsterwheel_readings.pop(0)\n",
    "            hamsterwheel_readings.append(latest_id)\n",
    "            return True\n",
    "        else:\n",
    "            hamsterwheel_readings.pop(0)\n",
    "            hamsterwheel_readings.append(latest_id)\n",
    "            return False\n",
    "    elif len(hamsterwheel_readings) < 3:\n",
    "        # Keep populating the list\n",
    "        hamsterwheel_readings.append(latest_id)\n",
    "        return False"
   ]
  },
  {
   "cell_type": "code",
   "execution_count": 50,
   "metadata": {},
   "outputs": [],
   "source": [
    "a = df.iloc[-1, :]"
   ]
  },
  {
   "cell_type": "code",
   "execution_count": 146,
   "metadata": {},
   "outputs": [
    {
     "name": "stderr",
     "output_type": "stream",
     "text": [
      "C:\\Users\\heiko\\AppData\\Local\\Temp\\ipykernel_11664\\1957796645.py:1: FutureWarning: The default dtype for empty Series will be 'object' instead of 'float64' in a future version. Specify a dtype explicitly to silence this warning.\n",
      "  a = pd.Series(name=5)\n"
     ]
    },
    {
     "data": {
      "text/plain": [
       "(False, [3, 4, 5])"
      ]
     },
     "execution_count": 146,
     "metadata": {},
     "output_type": "execute_result"
    }
   ],
   "source": [
    "a = pd.Series(name=5)\n",
    "is_hamster_running(a), hamsterwheel_readings"
   ]
  },
  {
   "cell_type": "code",
   "execution_count": 133,
   "metadata": {},
   "outputs": [
    {
     "data": {
      "text/plain": [
       "[3, 4, 4]"
      ]
     },
     "execution_count": 133,
     "metadata": {},
     "output_type": "execute_result"
    }
   ],
   "source": [
    "hamsterwheel_readings"
   ]
  },
  {
   "cell_type": "code",
   "execution_count": 59,
   "metadata": {},
   "outputs": [
    {
     "data": {
      "text/plain": [
       "time      2022-06-26 01:26:39.968401\n",
       "flag                               1\n",
       "diff          0 days 00:00:00.021695\n",
       "diff_s                      0.021695\n",
       "Name: 241185, dtype: object"
      ]
     },
     "execution_count": 59,
     "metadata": {},
     "output_type": "execute_result"
    }
   ],
   "source": [
    "a"
   ]
  },
  {
   "cell_type": "code",
   "execution_count": 61,
   "metadata": {},
   "outputs": [
    {
     "name": "stderr",
     "output_type": "stream",
     "text": [
      "C:\\Users\\heiko\\AppData\\Local\\Temp\\ipykernel_11664\\3797436423.py:1: FutureWarning: The default dtype for empty Series will be 'object' instead of 'float64' in a future version. Specify a dtype explicitly to silence this warning.\n",
      "  pd.Series(name=241186).name\n"
     ]
    },
    {
     "data": {
      "text/plain": [
       "241186"
      ]
     },
     "execution_count": 61,
     "metadata": {},
     "output_type": "execute_result"
    }
   ],
   "source": [
    "pd.Series(name=241186).name"
   ]
  },
  {
   "cell_type": "code",
   "execution_count": null,
   "metadata": {},
   "outputs": [],
   "source": []
  }
 ],
 "metadata": {
  "kernelspec": {
   "display_name": "Python 3.10.5 ('env': venv)",
   "language": "python",
   "name": "python3"
  },
  "language_info": {
   "codemirror_mode": {
    "name": "ipython",
    "version": 3
   },
   "file_extension": ".py",
   "mimetype": "text/x-python",
   "name": "python",
   "nbconvert_exporter": "python",
   "pygments_lexer": "ipython3",
   "version": "3.11.2"
  },
  "orig_nbformat": 4,
  "vscode": {
   "interpreter": {
    "hash": "4276cabb488e924f858ae5ec233e0002d429c7e33879a621b52f20469f2d9253"
   }
  }
 },
 "nbformat": 4,
 "nbformat_minor": 2
}
