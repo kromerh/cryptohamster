{
 "cells": [
  {
   "cell_type": "markdown",
   "metadata": {},
   "source": [
    "<center>\n",
    "<h1> Wilson The Cryptohamster </h1>\n",
    "<h2>Trading Cryptocurrency with the Power of a cute Syrian Hamster</h2>\n",
    "<hr>\n",
    "<h1>Exploratory Data Analysis</h1>\n",
    "<hr>\n",
    "</center>\n",
    "\n",
    "In this Notebook, we explore the raw data created from the hamster wheel sensor. The goals are as follows:\n",
    "\n",
    "1. Determine the parameters used for the decision process (e.g., timeout between two wheel runs, speed, distance).\n",
    "2. Find out how much Wilson travels on a usual night."
   ]
  },
  {
   "cell_type": "markdown",
   "metadata": {},
   "source": [
    "# Install dependencies"
   ]
  },
  {
   "cell_type": "code",
   "execution_count": 1,
   "metadata": {},
   "outputs": [],
   "source": [
    "#%pip install pandas numpy matplotlib seaborn pymysql"
   ]
  },
  {
   "cell_type": "markdown",
   "metadata": {},
   "source": [
    "# Import libraries and constants\n",
    "\n",
    "We also set the default dpi of figures a bit higher and tell pandas to ignore some warnings (setting with copy)."
   ]
  },
  {
   "cell_type": "code",
   "execution_count": 2,
   "metadata": {},
   "outputs": [],
   "source": [
    "from datetime import datetime\n",
    "import matplotlib\n",
    "import matplotlib.pyplot as plt\n",
    "import numpy as np\n",
    "import os\n",
    "import pandas as pd\n",
    "import pymysql\n",
    "import seaborn as sns\n",
    "import sys\n",
    "\n",
    "# Add path to source files\n",
    "sys.path.insert(1, os.path.join(sys.path[0], '..'))\n",
    "\n",
    "from src.python.utils import load_credentials\n",
    "\n",
    "# Constants\n",
    "from src.python.constants import (\n",
    "    DATABASE,\n",
    "    HOST_REMOTE,\n",
    "    PORT,\n",
    "    TABLE_HAMSTERWHEEL,\n",
    ")\n",
    "\n",
    "matplotlib.rcParams['figure.dpi'] = 200\n",
    "pd.options.mode.chained_assignment = None\n"
   ]
  },
  {
   "cell_type": "markdown",
   "metadata": {},
   "source": [
    "# Connect to the MySQL Database\n",
    "\n",
    "The database is running on the RPi."
   ]
  },
  {
   "cell_type": "code",
   "execution_count": 3,
   "metadata": {},
   "outputs": [
    {
     "name": "stdout",
     "output_type": "stream",
     "text": [
      "<class 'pymysql.connections.Connection'>\n"
     ]
    }
   ],
   "source": [
    "# Load credentials to connect to the database\n",
    "FULL_PATH_TO_CREDENTIALS = './../credentials.cred'\n",
    "user, password = load_credentials(filepath=FULL_PATH_TO_CREDENTIALS)\n",
    "\n",
    "# Create mysql connection\n",
    "mysql_connection = pymysql.connect(\n",
    "    host=HOST_REMOTE,\n",
    "    user=user,\n",
    "    password=password,\n",
    "    db=DATABASE,\n",
    "    port=PORT,\n",
    "    charset='utf8'\n",
    ")\n",
    "print(type(mysql_connection))\n"
   ]
  },
  {
   "cell_type": "markdown",
   "metadata": {},
   "source": [
    "# Check data in the hamsterwheel table\n",
    "\n",
    "The `hamsterhweel` table contains all the measurements where the magnetic sensor triggered a close. The absence of a record in the database means that the sensor was open. "
   ]
  },
  {
   "cell_type": "code",
   "execution_count": 4,
   "metadata": {},
   "outputs": [
    {
     "name": "stderr",
     "output_type": "stream",
     "text": [
      "/Users/HeikoKromer/.pyenv/versions/3.10.3/envs/wilsonisahamster/lib/python3.10/site-packages/pandas/io/sql.py:761: UserWarning: pandas only support SQLAlchemy connectable(engine/connection) ordatabase string URI or sqlite3 DBAPI2 connectionother DBAPI2 objects are not tested, please consider using SQLAlchemy\n",
      "  warnings.warn(\n"
     ]
    }
   ],
   "source": [
    "query = f\"SELECT * FROM {TABLE_HAMSTERWHEEL}\"\n",
    "df = pd.read_sql(\n",
    "    sql=query,\n",
    "    con=mysql_connection,\n",
    "    index_col='hamsterwheel_id'\n",
    ")"
   ]
  },
  {
   "cell_type": "markdown",
   "metadata": {},
   "source": [
    "Let's see what the data type is in the table. The time is stored as a datetime object, the flag (is always 1 by default) is an integer."
   ]
  },
  {
   "cell_type": "code",
   "execution_count": 5,
   "metadata": {},
   "outputs": [
    {
     "data": {
      "text/plain": [
       "time    datetime64[ns]\n",
       "flag             int64\n",
       "dtype: object"
      ]
     },
     "execution_count": 5,
     "metadata": {},
     "output_type": "execute_result"
    }
   ],
   "source": [
    "df.dtypes"
   ]
  },
  {
   "cell_type": "markdown",
   "metadata": {},
   "source": [
    "Sorting by the time in descending order shows the latest measurement."
   ]
  },
  {
   "cell_type": "code",
   "execution_count": 6,
   "metadata": {},
   "outputs": [
    {
     "data": {
      "text/html": [
       "<div>\n",
       "<style scoped>\n",
       "    .dataframe tbody tr th:only-of-type {\n",
       "        vertical-align: middle;\n",
       "    }\n",
       "\n",
       "    .dataframe tbody tr th {\n",
       "        vertical-align: top;\n",
       "    }\n",
       "\n",
       "    .dataframe thead th {\n",
       "        text-align: right;\n",
       "    }\n",
       "</style>\n",
       "<table border=\"1\" class=\"dataframe\">\n",
       "  <thead>\n",
       "    <tr style=\"text-align: right;\">\n",
       "      <th></th>\n",
       "      <th>time</th>\n",
       "      <th>flag</th>\n",
       "    </tr>\n",
       "    <tr>\n",
       "      <th>hamsterwheel_id</th>\n",
       "      <th></th>\n",
       "      <th></th>\n",
       "    </tr>\n",
       "  </thead>\n",
       "  <tbody>\n",
       "    <tr>\n",
       "      <th>177963</th>\n",
       "      <td>2022-06-13 22:41:20.691592</td>\n",
       "      <td>1</td>\n",
       "    </tr>\n",
       "    <tr>\n",
       "      <th>177962</th>\n",
       "      <td>2022-06-13 22:41:20.659857</td>\n",
       "      <td>1</td>\n",
       "    </tr>\n",
       "    <tr>\n",
       "      <th>177961</th>\n",
       "      <td>2022-06-13 22:41:20.638759</td>\n",
       "      <td>1</td>\n",
       "    </tr>\n",
       "    <tr>\n",
       "      <th>177960</th>\n",
       "      <td>2022-06-13 22:41:19.112978</td>\n",
       "      <td>1</td>\n",
       "    </tr>\n",
       "    <tr>\n",
       "      <th>177959</th>\n",
       "      <td>2022-06-13 22:41:19.091697</td>\n",
       "      <td>1</td>\n",
       "    </tr>\n",
       "  </tbody>\n",
       "</table>\n",
       "</div>"
      ],
      "text/plain": [
       "                                      time  flag\n",
       "hamsterwheel_id                                 \n",
       "177963          2022-06-13 22:41:20.691592     1\n",
       "177962          2022-06-13 22:41:20.659857     1\n",
       "177961          2022-06-13 22:41:20.638759     1\n",
       "177960          2022-06-13 22:41:19.112978     1\n",
       "177959          2022-06-13 22:41:19.091697     1"
      ]
     },
     "execution_count": 6,
     "metadata": {},
     "output_type": "execute_result"
    }
   ],
   "source": [
    "df.sort_values(by=['time'], ascending=False).head()"
   ]
  },
  {
   "cell_type": "markdown",
   "metadata": {},
   "source": [
    "## Distribution of time between two consecutive readings\n",
    "\n",
    "Let's calculate the difference between two readings of the magnetic sensor. That gives an idea how fast the hamster is usually running. Very long differences mean that the hamster did not run, but the last reading when it stepped of the wheel and the first when it stepped back on. This approach cannot distinguish between two events where the hamster is just running slow and when it stops and steps back on."
   ]
  },
  {
   "cell_type": "code",
   "execution_count": 7,
   "metadata": {},
   "outputs": [
    {
     "name": "stdout",
     "output_type": "stream",
     "text": [
      "(177963, 4)\n"
     ]
    },
    {
     "data": {
      "text/html": [
       "<div>\n",
       "<style scoped>\n",
       "    .dataframe tbody tr th:only-of-type {\n",
       "        vertical-align: middle;\n",
       "    }\n",
       "\n",
       "    .dataframe tbody tr th {\n",
       "        vertical-align: top;\n",
       "    }\n",
       "\n",
       "    .dataframe thead th {\n",
       "        text-align: right;\n",
       "    }\n",
       "</style>\n",
       "<table border=\"1\" class=\"dataframe\">\n",
       "  <thead>\n",
       "    <tr style=\"text-align: right;\">\n",
       "      <th></th>\n",
       "      <th>time</th>\n",
       "      <th>flag</th>\n",
       "      <th>diff</th>\n",
       "      <th>diff_s</th>\n",
       "    </tr>\n",
       "    <tr>\n",
       "      <th>hamsterwheel_id</th>\n",
       "      <th></th>\n",
       "      <th></th>\n",
       "      <th></th>\n",
       "      <th></th>\n",
       "    </tr>\n",
       "  </thead>\n",
       "  <tbody>\n",
       "    <tr>\n",
       "      <th>1</th>\n",
       "      <td>2022-05-31 21:27:47.173574</td>\n",
       "      <td>1</td>\n",
       "      <td>NaT</td>\n",
       "      <td>NaN</td>\n",
       "    </tr>\n",
       "    <tr>\n",
       "      <th>2</th>\n",
       "      <td>2022-05-31 21:27:47.189967</td>\n",
       "      <td>1</td>\n",
       "      <td>0 days 00:00:00.016393</td>\n",
       "      <td>0.016393</td>\n",
       "    </tr>\n",
       "    <tr>\n",
       "      <th>3</th>\n",
       "      <td>2022-05-31 21:27:47.211610</td>\n",
       "      <td>1</td>\n",
       "      <td>0 days 00:00:00.021643</td>\n",
       "      <td>0.021643</td>\n",
       "    </tr>\n",
       "    <tr>\n",
       "      <th>4</th>\n",
       "      <td>2022-05-31 21:27:47.236608</td>\n",
       "      <td>1</td>\n",
       "      <td>0 days 00:00:00.024998</td>\n",
       "      <td>0.024998</td>\n",
       "    </tr>\n",
       "    <tr>\n",
       "      <th>5</th>\n",
       "      <td>2022-05-31 21:31:26.219387</td>\n",
       "      <td>1</td>\n",
       "      <td>0 days 00:03:38.982779</td>\n",
       "      <td>218.982779</td>\n",
       "    </tr>\n",
       "  </tbody>\n",
       "</table>\n",
       "</div>"
      ],
      "text/plain": [
       "                                      time  flag                   diff  \\\n",
       "hamsterwheel_id                                                           \n",
       "1               2022-05-31 21:27:47.173574     1                    NaT   \n",
       "2               2022-05-31 21:27:47.189967     1 0 days 00:00:00.016393   \n",
       "3               2022-05-31 21:27:47.211610     1 0 days 00:00:00.021643   \n",
       "4               2022-05-31 21:27:47.236608     1 0 days 00:00:00.024998   \n",
       "5               2022-05-31 21:31:26.219387     1 0 days 00:03:38.982779   \n",
       "\n",
       "                     diff_s  \n",
       "hamsterwheel_id              \n",
       "1                       NaN  \n",
       "2                  0.016393  \n",
       "3                  0.021643  \n",
       "4                  0.024998  \n",
       "5                218.982779  "
      ]
     },
     "execution_count": 7,
     "metadata": {},
     "output_type": "execute_result"
    }
   ],
   "source": [
    "df['diff'] = (df['time'] - df['time'].shift(1))\n",
    "df['diff_s'] = df['diff'].dt.total_seconds()\n",
    "print(df.shape)\n",
    "df.head()"
   ]
  },
  {
   "cell_type": "markdown",
   "metadata": {},
   "source": [
    "When plotting the native distances as a boxplot, we see that there are a lot of high frequencies and a few long ones. The former - high frequencies - means that the magnetic sensor recorded multiple times a closure when the magnet was passing over it. The very low frequencies (long times between readings) can also be ignored, because here the hamster was not running in the wheel.\n",
    "\n",
    "Let's further refine the plot with a maximum and minimum threshold for the difference in seconds: 0.8 and 12 seconds, respectively."
   ]
  },
  {
   "cell_type": "code",
   "execution_count": 8,
   "metadata": {},
   "outputs": [
    {
     "data": {
      "text/plain": [
       "<AxesSubplot:xlabel='diff_s'>"
      ]
     },
     "execution_count": 8,
     "metadata": {},
     "output_type": "execute_result"
    },
    {
     "data": {
      "image/png": "[encoded data removed]",
      "text/plain": [
       "<Figure size 432x288 with 1 Axes>"
      ]
     },
     "metadata": {
      "needs_background": "light"
     },
     "output_type": "display_data"
    }
   ],
   "source": [
    "sns.boxplot(x=df['diff_s'])"
   ]
  },
  {
   "cell_type": "code",
   "execution_count": 9,
   "metadata": {},
   "outputs": [
    {
     "data": {
      "text/plain": [
       "<AxesSubplot:xlabel='diff_s'>"
      ]
     },
     "execution_count": 9,
     "metadata": {},
     "output_type": "execute_result"
    },
    {
     "data": {
      "image/png": "[encoded data removed]",
      "text/plain": [
       "<Figure size 432x288 with 1 Axes>"
      ]
     },
     "metadata": {
      "needs_background": "light"
     },
     "output_type": "display_data"
    }
   ],
   "source": [
    "sns.boxplot(x=df.loc[df['diff_s'] < 100,'diff_s'])"
   ]
  },
  {
   "cell_type": "code",
   "execution_count": 10,
   "metadata": {},
   "outputs": [
    {
     "name": "stdout",
     "output_type": "stream",
     "text": [
      "We removed 166408 rows by filtering on small and long time differences between wheel readings.\n"
     ]
    }
   ],
   "source": [
    "min_threshold = 0.2\n",
    "max_threshold = 12\n",
    "\n",
    "m = (df['diff_s'] < max_threshold) & (df['diff_s'] > min_threshold)\n",
    "df_cleaned = df.loc[m]\n",
    "\n",
    "n_rem = df.shape[0] - df_cleaned.shape[0]\n",
    "print(f\"We removed {n_rem} rows by filtering on small and long time differences between wheel readings.\")\n"
   ]
  },
  {
   "cell_type": "markdown",
   "metadata": {},
   "source": [
    "Let's plot this new distribution.\n",
    "\n",
    "What we see is that the hamster takes about 1.2 to 2.2 seconds most times when it is running in the wheel. There might be some occasions when it's running much slower (thus more time between readings). As mentioned before, there's no way from the data alone to distinguish between the hamster running very slowly and running and stepping of from the wheel and after a few seconds stepping back on. At least not with the method used to determine the speed in this project.\n",
    "\n",
    "However, that all being said, for our purposes, this will do just fine.\n"
   ]
  },
  {
   "cell_type": "code",
   "execution_count": 11,
   "metadata": {},
   "outputs": [
    {
     "data": {
      "text/plain": [
       "Text(0.5, 0, 'Difference between consecutive readings in seconds')"
      ]
     },
     "execution_count": 11,
     "metadata": {},
     "output_type": "execute_result"
    },
    {
     "data": {
      "image/png": "[encoded data removed]",
      "text/plain": [
       "<Figure size 432x288 with 1 Axes>"
      ]
     },
     "metadata": {
      "needs_background": "light"
     },
     "output_type": "display_data"
    }
   ],
   "source": [
    "sns.histplot(data=df_cleaned, x='diff_s', binwidth=0.1)\n",
    "plt.xlabel('Difference between consecutive readings in seconds')"
   ]
  },
  {
   "cell_type": "code",
   "execution_count": 12,
   "metadata": {},
   "outputs": [
    {
     "data": {
      "text/plain": [
       "Text(0.5, 0, 'Difference between consecutive readings in seconds')"
      ]
     },
     "execution_count": 12,
     "metadata": {},
     "output_type": "execute_result"
    },
    {
     "data": {
      "image/png": "[encoded data removed]",
      "text/plain": [
       "<Figure size 432x288 with 1 Axes>"
      ]
     },
     "metadata": {
      "needs_background": "light"
     },
     "output_type": "display_data"
    }
   ],
   "source": [
    "# Lets see where 95% of the data points fall\n",
    "x_95 = df_cleaned['diff_s'].quantile(.95)\n",
    "\n",
    "plt.axvline(x_95, color='red')\n",
    "plt.text(x_95*1.1, 0.5, s=f'{np.round(x_95, 2)}', color='red')\n",
    "\n",
    "sns.ecdfplot(data=df_cleaned, x='diff_s')\n",
    "plt.xlabel('Difference between consecutive readings in seconds')\n"
   ]
  },
  {
   "cell_type": "markdown",
   "metadata": {},
   "source": [
    "Going back to why we did this investigation in the first place, we wanted to determine the parameters used for the decision process (e.g., timeout between two wheel runs, speed, distance)*. From the data, we conclude the following:\n",
    "\n",
    "We set the timeout between wheel runs to 3.8 seconds. I.e., if the hamster steps back on the wheel within 5 seconds, any decision timer continues to run. If the hamster steps off for more than 3.8 seconds, the decision timer ends and locks a decision in. Again, this approach cannot distinguish between \"slow running\" and \"stepping off the wheel and back on\"."
   ]
  },
  {
   "cell_type": "markdown",
   "metadata": {},
   "source": [
    "# Determine the speed of the hamster and distance traveled\n",
    "\n",
    "Let's for a typical night determine how fast and how far the hamster is running."
   ]
  },
  {
   "cell_type": "code",
   "execution_count": 13,
   "metadata": {},
   "outputs": [
    {
     "data": {
      "text/html": [
       "<div>\n",
       "<style scoped>\n",
       "    .dataframe tbody tr th:only-of-type {\n",
       "        vertical-align: middle;\n",
       "    }\n",
       "\n",
       "    .dataframe tbody tr th {\n",
       "        vertical-align: top;\n",
       "    }\n",
       "\n",
       "    .dataframe thead th {\n",
       "        text-align: right;\n",
       "    }\n",
       "</style>\n",
       "<table border=\"1\" class=\"dataframe\">\n",
       "  <thead>\n",
       "    <tr style=\"text-align: right;\">\n",
       "      <th></th>\n",
       "      <th>time</th>\n",
       "      <th>flag</th>\n",
       "      <th>diff</th>\n",
       "      <th>diff_s</th>\n",
       "    </tr>\n",
       "    <tr>\n",
       "      <th>hamsterwheel_id</th>\n",
       "      <th></th>\n",
       "      <th></th>\n",
       "      <th></th>\n",
       "      <th></th>\n",
       "    </tr>\n",
       "  </thead>\n",
       "  <tbody>\n",
       "  </tbody>\n",
       "</table>\n",
       "</div>"
      ],
      "text/plain": [
       "Empty DataFrame\n",
       "Columns: [time, flag, diff, diff_s]\n",
       "Index: []"
      ]
     },
     "execution_count": 13,
     "metadata": {},
     "output_type": "execute_result"
    }
   ],
   "source": [
    "WHEELSIZE = 30  # cm\n",
    "last_30s = df_cleaned[ df_cleaned['time'] >= datetime.now() - pd.Timedelta(seconds=30)]\n",
    "last_30s\n"
   ]
  },
  {
   "cell_type": "code",
   "execution_count": 14,
   "metadata": {},
   "outputs": [
    {
     "data": {
      "text/plain": [
       "nan"
      ]
     },
     "execution_count": 14,
     "metadata": {},
     "output_type": "execute_result"
    }
   ],
   "source": [
    "# mean time diff\n",
    "time_diff = last_30s['diff_s'].mean()\n",
    "speed_cm_s = WHEELSIZE * 2 * np.pi/time_diff\n",
    "speed_km_h = 60*60*speed_cm_s/100/1000\n",
    "speed_km_h"
   ]
  },
  {
   "cell_type": "code",
   "execution_count": 15,
   "metadata": {},
   "outputs": [],
   "source": [
    "distance = WHEELSIZE * 2 * np.pi\n",
    "df_cleaned['avg_speed'] = distance/df_cleaned['diff_s'].rolling(5).mean()\n",
    "# convert to km/h\n",
    "df_cleaned['avg_speed'] = 60*60*df_cleaned['avg_speed']/100/1000"
   ]
  },
  {
   "cell_type": "code",
   "execution_count": 16,
   "metadata": {},
   "outputs": [
    {
     "data": {
      "text/html": [
       "<div>\n",
       "<style scoped>\n",
       "    .dataframe tbody tr th:only-of-type {\n",
       "        vertical-align: middle;\n",
       "    }\n",
       "\n",
       "    .dataframe tbody tr th {\n",
       "        vertical-align: top;\n",
       "    }\n",
       "\n",
       "    .dataframe thead th {\n",
       "        text-align: right;\n",
       "    }\n",
       "</style>\n",
       "<table border=\"1\" class=\"dataframe\">\n",
       "  <thead>\n",
       "    <tr style=\"text-align: right;\">\n",
       "      <th></th>\n",
       "      <th>time</th>\n",
       "      <th>flag</th>\n",
       "      <th>diff</th>\n",
       "      <th>diff_s</th>\n",
       "      <th>avg_speed</th>\n",
       "    </tr>\n",
       "    <tr>\n",
       "      <th>hamsterwheel_id</th>\n",
       "      <th></th>\n",
       "      <th></th>\n",
       "      <th></th>\n",
       "      <th></th>\n",
       "      <th></th>\n",
       "    </tr>\n",
       "  </thead>\n",
       "  <tbody>\n",
       "    <tr>\n",
       "      <th>7</th>\n",
       "      <td>2022-05-31 21:31:31.370770</td>\n",
       "      <td>1</td>\n",
       "      <td>0 days 00:00:05.135326</td>\n",
       "      <td>5.135326</td>\n",
       "      <td>NaN</td>\n",
       "    </tr>\n",
       "    <tr>\n",
       "      <th>10</th>\n",
       "      <td>2022-05-31 21:31:33.465190</td>\n",
       "      <td>1</td>\n",
       "      <td>0 days 00:00:02.051821</td>\n",
       "      <td>2.051821</td>\n",
       "      <td>NaN</td>\n",
       "    </tr>\n",
       "    <tr>\n",
       "      <th>12</th>\n",
       "      <td>2022-05-31 21:31:35.643069</td>\n",
       "      <td>1</td>\n",
       "      <td>0 days 00:00:02.156843</td>\n",
       "      <td>2.156843</td>\n",
       "      <td>NaN</td>\n",
       "    </tr>\n",
       "    <tr>\n",
       "      <th>14</th>\n",
       "      <td>2022-05-31 21:31:37.790426</td>\n",
       "      <td>1</td>\n",
       "      <td>0 days 00:00:02.126198</td>\n",
       "      <td>2.126198</td>\n",
       "      <td>NaN</td>\n",
       "    </tr>\n",
       "    <tr>\n",
       "      <th>17</th>\n",
       "      <td>2022-05-31 21:32:00.884976</td>\n",
       "      <td>1</td>\n",
       "      <td>0 days 00:00:01.744236</td>\n",
       "      <td>1.744236</td>\n",
       "      <td>2.567588</td>\n",
       "    </tr>\n",
       "    <tr>\n",
       "      <th>...</th>\n",
       "      <td>...</td>\n",
       "      <td>...</td>\n",
       "      <td>...</td>\n",
       "      <td>...</td>\n",
       "      <td>...</td>\n",
       "    </tr>\n",
       "    <tr>\n",
       "      <th>177949</th>\n",
       "      <td>2022-06-13 22:41:14.489557</td>\n",
       "      <td>1</td>\n",
       "      <td>0 days 00:00:01.483228</td>\n",
       "      <td>1.483228</td>\n",
       "      <td>4.434260</td>\n",
       "    </tr>\n",
       "    <tr>\n",
       "      <th>177952</th>\n",
       "      <td>2022-06-13 22:41:16.036832</td>\n",
       "      <td>1</td>\n",
       "      <td>0 days 00:00:01.493731</td>\n",
       "      <td>1.493731</td>\n",
       "      <td>4.417533</td>\n",
       "    </tr>\n",
       "    <tr>\n",
       "      <th>177955</th>\n",
       "      <td>2022-06-13 22:41:17.585239</td>\n",
       "      <td>1</td>\n",
       "      <td>0 days 00:00:01.494973</td>\n",
       "      <td>1.494973</td>\n",
       "      <td>4.508835</td>\n",
       "    </tr>\n",
       "    <tr>\n",
       "      <th>177958</th>\n",
       "      <td>2022-06-13 22:41:19.070165</td>\n",
       "      <td>1</td>\n",
       "      <td>0 days 00:00:01.441818</td>\n",
       "      <td>1.441818</td>\n",
       "      <td>4.553071</td>\n",
       "    </tr>\n",
       "    <tr>\n",
       "      <th>177961</th>\n",
       "      <td>2022-06-13 22:41:20.638759</td>\n",
       "      <td>1</td>\n",
       "      <td>0 days 00:00:01.525781</td>\n",
       "      <td>1.525781</td>\n",
       "      <td>4.560664</td>\n",
       "    </tr>\n",
       "  </tbody>\n",
       "</table>\n",
       "<p>11555 rows × 5 columns</p>\n",
       "</div>"
      ],
      "text/plain": [
       "                                      time  flag                   diff  \\\n",
       "hamsterwheel_id                                                           \n",
       "7               2022-05-31 21:31:31.370770     1 0 days 00:00:05.135326   \n",
       "10              2022-05-31 21:31:33.465190     1 0 days 00:00:02.051821   \n",
       "12              2022-05-31 21:31:35.643069     1 0 days 00:00:02.156843   \n",
       "14              2022-05-31 21:31:37.790426     1 0 days 00:00:02.126198   \n",
       "17              2022-05-31 21:32:00.884976     1 0 days 00:00:01.744236   \n",
       "...                                    ...   ...                    ...   \n",
       "177949          2022-06-13 22:41:14.489557     1 0 days 00:00:01.483228   \n",
       "177952          2022-06-13 22:41:16.036832     1 0 days 00:00:01.493731   \n",
       "177955          2022-06-13 22:41:17.585239     1 0 days 00:00:01.494973   \n",
       "177958          2022-06-13 22:41:19.070165     1 0 days 00:00:01.441818   \n",
       "177961          2022-06-13 22:41:20.638759     1 0 days 00:00:01.525781   \n",
       "\n",
       "                   diff_s  avg_speed  \n",
       "hamsterwheel_id                       \n",
       "7                5.135326        NaN  \n",
       "10               2.051821        NaN  \n",
       "12               2.156843        NaN  \n",
       "14               2.126198        NaN  \n",
       "17               1.744236   2.567588  \n",
       "...                   ...        ...  \n",
       "177949           1.483228   4.434260  \n",
       "177952           1.493731   4.417533  \n",
       "177955           1.494973   4.508835  \n",
       "177958           1.441818   4.553071  \n",
       "177961           1.525781   4.560664  \n",
       "\n",
       "[11555 rows x 5 columns]"
      ]
     },
     "execution_count": 16,
     "metadata": {},
     "output_type": "execute_result"
    }
   ],
   "source": [
    "df_cleaned"
   ]
  },
  {
   "cell_type": "code",
   "execution_count": 17,
   "metadata": {},
   "outputs": [
    {
     "data": {
      "text/plain": [
       "<AxesSubplot:xlabel='time'>"
      ]
     },
     "execution_count": 17,
     "metadata": {},
     "output_type": "execute_result"
    },
    {
     "data": {
      "image/png": "[encoded data removed]",
      "text/plain": [
       "<Figure size 432x288 with 1 Axes>"
      ]
     },
     "metadata": {
      "needs_background": "light"
     },
     "output_type": "display_data"
    }
   ],
   "source": [
    "plot_speed = df_cleaned.set_index('time')\n",
    "plot_speed.loc['2022-05-31 22:38:00': ,'avg_speed'].plot()"
   ]
  },
  {
   "cell_type": "code",
   "execution_count": 18,
   "metadata": {},
   "outputs": [
    {
     "data": {
      "text/plain": [
       "<AxesSubplot:xlabel='time'>"
      ]
     },
     "execution_count": 18,
     "metadata": {},
     "output_type": "execute_result"
    },
    {
     "data": {
      "image/png": "[encoded data removed]",
      "text/plain": [
       "<Figure size 432x288 with 1 Axes>"
      ]
     },
     "metadata": {
      "needs_background": "light"
     },
     "output_type": "display_data"
    }
   ],
   "source": [
    "plot_speed = df_cleaned.set_index('time')\n",
    "plot_speed.loc['2022-06-01 20:00 21:00:00': ,'avg_speed'].plot()"
   ]
  },
  {
   "cell_type": "code",
   "execution_count": 20,
   "metadata": {},
   "outputs": [
    {
     "data": {
      "text/plain": [
       "<AxesSubplot:xlabel='time'>"
      ]
     },
     "execution_count": 20,
     "metadata": {},
     "output_type": "execute_result"
    },
    {
     "data": {
      "image/png": "[encoded data removed]",
      "text/plain": [
       "<Figure size 432x288 with 1 Axes>"
      ]
     },
     "metadata": {
      "needs_background": "light"
     },
     "output_type": "display_data"
    }
   ],
   "source": [
    "# distance in m\n",
    "df_cleaned['distance'] = df_cleaned.reset_index().index * WHEELSIZE * np.pi * 2 / 100\n",
    "plot_speed = df_cleaned.set_index('time')\n",
    "plot_speed.loc['2022-06-05 20:00':,'distance'].plot()"
   ]
  },
  {
   "cell_type": "code",
   "execution_count": 38,
   "metadata": {},
   "outputs": [
    {
     "data": {
      "text/html": [
       "<div>\n",
       "<style scoped>\n",
       "    .dataframe tbody tr th:only-of-type {\n",
       "        vertical-align: middle;\n",
       "    }\n",
       "\n",
       "    .dataframe tbody tr th {\n",
       "        vertical-align: top;\n",
       "    }\n",
       "\n",
       "    .dataframe thead th {\n",
       "        text-align: right;\n",
       "    }\n",
       "</style>\n",
       "<table border=\"1\" class=\"dataframe\">\n",
       "  <thead>\n",
       "    <tr style=\"text-align: right;\">\n",
       "      <th></th>\n",
       "      <th>time</th>\n",
       "      <th>flag</th>\n",
       "      <th>diff</th>\n",
       "      <th>diff_s</th>\n",
       "      <th>avg_speed</th>\n",
       "      <th>distance</th>\n",
       "    </tr>\n",
       "    <tr>\n",
       "      <th>hamsterwheel_id</th>\n",
       "      <th></th>\n",
       "      <th></th>\n",
       "      <th></th>\n",
       "      <th></th>\n",
       "      <th></th>\n",
       "      <th></th>\n",
       "    </tr>\n",
       "  </thead>\n",
       "  <tbody>\n",
       "    <tr>\n",
       "      <th>7</th>\n",
       "      <td>2022-05-31 21:31:31.370770</td>\n",
       "      <td>1</td>\n",
       "      <td>0 days 00:00:05.135326</td>\n",
       "      <td>5.135326</td>\n",
       "      <td>NaN</td>\n",
       "      <td>0.000000</td>\n",
       "    </tr>\n",
       "    <tr>\n",
       "      <th>10</th>\n",
       "      <td>2022-05-31 21:31:33.465190</td>\n",
       "      <td>1</td>\n",
       "      <td>0 days 00:00:02.051821</td>\n",
       "      <td>2.051821</td>\n",
       "      <td>NaN</td>\n",
       "      <td>1.884956</td>\n",
       "    </tr>\n",
       "    <tr>\n",
       "      <th>12</th>\n",
       "      <td>2022-05-31 21:31:35.643069</td>\n",
       "      <td>1</td>\n",
       "      <td>0 days 00:00:02.156843</td>\n",
       "      <td>2.156843</td>\n",
       "      <td>NaN</td>\n",
       "      <td>3.769911</td>\n",
       "    </tr>\n",
       "    <tr>\n",
       "      <th>14</th>\n",
       "      <td>2022-05-31 21:31:37.790426</td>\n",
       "      <td>1</td>\n",
       "      <td>0 days 00:00:02.126198</td>\n",
       "      <td>2.126198</td>\n",
       "      <td>NaN</td>\n",
       "      <td>5.654867</td>\n",
       "    </tr>\n",
       "    <tr>\n",
       "      <th>17</th>\n",
       "      <td>2022-05-31 21:32:00.884976</td>\n",
       "      <td>1</td>\n",
       "      <td>0 days 00:00:01.744236</td>\n",
       "      <td>1.744236</td>\n",
       "      <td>2.567588</td>\n",
       "      <td>7.539822</td>\n",
       "    </tr>\n",
       "    <tr>\n",
       "      <th>...</th>\n",
       "      <td>...</td>\n",
       "      <td>...</td>\n",
       "      <td>...</td>\n",
       "      <td>...</td>\n",
       "      <td>...</td>\n",
       "      <td>...</td>\n",
       "    </tr>\n",
       "    <tr>\n",
       "      <th>11326</th>\n",
       "      <td>2022-06-02 04:16:17.520473</td>\n",
       "      <td>1</td>\n",
       "      <td>0 days 00:00:01.856464</td>\n",
       "      <td>1.856464</td>\n",
       "      <td>3.513634</td>\n",
       "      <td>3549.371380</td>\n",
       "    </tr>\n",
       "    <tr>\n",
       "      <th>11329</th>\n",
       "      <td>2022-06-02 04:16:19.396289</td>\n",
       "      <td>1</td>\n",
       "      <td>0 days 00:00:01.838863</td>\n",
       "      <td>1.838863</td>\n",
       "      <td>3.667683</td>\n",
       "      <td>3551.256336</td>\n",
       "    </tr>\n",
       "    <tr>\n",
       "      <th>11332</th>\n",
       "      <td>2022-06-02 04:16:21.274181</td>\n",
       "      <td>1</td>\n",
       "      <td>0 days 00:00:01.835263</td>\n",
       "      <td>1.835263</td>\n",
       "      <td>3.659003</td>\n",
       "      <td>3553.141291</td>\n",
       "    </tr>\n",
       "    <tr>\n",
       "      <th>11334</th>\n",
       "      <td>2022-06-02 04:16:23.089196</td>\n",
       "      <td>1</td>\n",
       "      <td>0 days 00:00:01.793712</td>\n",
       "      <td>1.793712</td>\n",
       "      <td>3.683852</td>\n",
       "      <td>3555.026247</td>\n",
       "    </tr>\n",
       "    <tr>\n",
       "      <th>11337</th>\n",
       "      <td>2022-06-02 04:16:25.008509</td>\n",
       "      <td>1</td>\n",
       "      <td>0 days 00:00:01.876774</td>\n",
       "      <td>1.876774</td>\n",
       "      <td>3.687525</td>\n",
       "      <td>3556.911202</td>\n",
       "    </tr>\n",
       "  </tbody>\n",
       "</table>\n",
       "<p>1888 rows × 6 columns</p>\n",
       "</div>"
      ],
      "text/plain": [
       "                                      time  flag                   diff  \\\n",
       "hamsterwheel_id                                                           \n",
       "7               2022-05-31 21:31:31.370770     1 0 days 00:00:05.135326   \n",
       "10              2022-05-31 21:31:33.465190     1 0 days 00:00:02.051821   \n",
       "12              2022-05-31 21:31:35.643069     1 0 days 00:00:02.156843   \n",
       "14              2022-05-31 21:31:37.790426     1 0 days 00:00:02.126198   \n",
       "17              2022-05-31 21:32:00.884976     1 0 days 00:00:01.744236   \n",
       "...                                    ...   ...                    ...   \n",
       "11326           2022-06-02 04:16:17.520473     1 0 days 00:00:01.856464   \n",
       "11329           2022-06-02 04:16:19.396289     1 0 days 00:00:01.838863   \n",
       "11332           2022-06-02 04:16:21.274181     1 0 days 00:00:01.835263   \n",
       "11334           2022-06-02 04:16:23.089196     1 0 days 00:00:01.793712   \n",
       "11337           2022-06-02 04:16:25.008509     1 0 days 00:00:01.876774   \n",
       "\n",
       "                   diff_s  avg_speed     distance  \n",
       "hamsterwheel_id                                    \n",
       "7                5.135326        NaN     0.000000  \n",
       "10               2.051821        NaN     1.884956  \n",
       "12               2.156843        NaN     3.769911  \n",
       "14               2.126198        NaN     5.654867  \n",
       "17               1.744236   2.567588     7.539822  \n",
       "...                   ...        ...          ...  \n",
       "11326            1.856464   3.513634  3549.371380  \n",
       "11329            1.838863   3.667683  3551.256336  \n",
       "11332            1.835263   3.659003  3553.141291  \n",
       "11334            1.793712   3.683852  3555.026247  \n",
       "11337            1.876774   3.687525  3556.911202  \n",
       "\n",
       "[1888 rows x 6 columns]"
      ]
     },
     "execution_count": 38,
     "metadata": {},
     "output_type": "execute_result"
    }
   ],
   "source": [
    "df_cleaned"
   ]
  },
  {
   "cell_type": "code",
   "execution_count": 26,
   "metadata": {},
   "outputs": [
    {
     "name": "stdout",
     "output_type": "stream",
     "text": [
      "Wilson ran 3402.34 m between 2022-06-05 20:00 and 2022-06-06 12:00\n"
     ]
    },
    {
     "data": {
      "image/png": "[encoded data removed]",
      "text/plain": [
       "<Figure size 432x288 with 1 Axes>"
      ]
     },
     "metadata": {
      "needs_background": "light"
     },
     "output_type": "display_data"
    }
   ],
   "source": [
    "# distance in m\n",
    "start = '2022-06-05 20:00'\n",
    "end = '2022-06-06 12:00'\n",
    "\n",
    "df_day = df_cleaned.set_index('time').loc[start:end, :]\n",
    "df_day['distance'] = df_day.reset_index().index * WHEELSIZE * np.pi * 2 / 100\n",
    "\n",
    "df_day.loc[:,'distance'].plot()\n",
    "daily_distance = df_day['distance'].iloc[-1]\n",
    "print(f'Wilson ran {daily_distance:.2f} m between {start} and {end}')"
   ]
  },
  {
   "cell_type": "code",
   "execution_count": 27,
   "metadata": {},
   "outputs": [
    {
     "name": "stdout",
     "output_type": "stream",
     "text": [
      "Wilson ran 725.71 m between 2022-06-06 20:00 and 2022-06-07 12:00\n"
     ]
    },
    {
     "data": {
      "image/png": "[encoded data removed]",
      "text/plain": [
       "<Figure size 432x288 with 1 Axes>"
      ]
     },
     "metadata": {
      "needs_background": "light"
     },
     "output_type": "display_data"
    }
   ],
   "source": [
    "# distance in m\n",
    "start = '2022-06-06 20:00'\n",
    "end = '2022-06-07 12:00'\n",
    "\n",
    "df_day = df_cleaned.set_index('time').loc[start:end, :]\n",
    "df_day['distance'] = df_day.reset_index().index * WHEELSIZE * np.pi * 2 / 100\n",
    "\n",
    "df_day.loc[:,'distance'].plot()\n",
    "daily_distance = df_day['distance'].iloc[-1]\n",
    "print(f'Wilson ran {daily_distance:.2f} m between {start} and {end}')"
   ]
  },
  {
   "cell_type": "code",
   "execution_count": 28,
   "metadata": {},
   "outputs": [
    {
     "name": "stdout",
     "output_type": "stream",
     "text": [
      "Wilson ran 1228.99 m between 2022-06-07 20:00 and 2022-06-08 12:00\n"
     ]
    },
    {
     "data": {
      "image/png": "[encoded data removed]",
      "text/plain": [
       "<Figure size 432x288 with 1 Axes>"
      ]
     },
     "metadata": {
      "needs_background": "light"
     },
     "output_type": "display_data"
    }
   ],
   "source": [
    "# distance in m\n",
    "start = '2022-06-07 20:00'\n",
    "end = '2022-06-08 12:00'\n",
    "\n",
    "df_day = df_cleaned.set_index('time').loc[start:end, :]\n",
    "df_day['distance'] = df_day.reset_index().index * WHEELSIZE * np.pi * 2 / 100\n",
    "\n",
    "df_day.loc[:,'distance'].plot()\n",
    "daily_distance = df_day['distance'].iloc[-1]\n",
    "print(f'Wilson ran {daily_distance:.2f} m between {start} and {end}')"
   ]
  },
  {
   "cell_type": "code",
   "execution_count": 29,
   "metadata": {},
   "outputs": [
    {
     "name": "stdout",
     "output_type": "stream",
     "text": [
      "Wilson ran 2474.95 m between 2022-06-08 20:00 and 2022-06-09 12:00\n"
     ]
    },
    {
     "data": {
      "image/png": "[encoded data removed]",
      "text/plain": [
       "<Figure size 432x288 with 1 Axes>"
      ]
     },
     "metadata": {
      "needs_background": "light"
     },
     "output_type": "display_data"
    }
   ],
   "source": [
    "# distance in m\n",
    "start = '2022-06-08 20:00'\n",
    "end = '2022-06-09 12:00'\n",
    "\n",
    "df_day = df_cleaned.set_index('time').loc[start:end, :]\n",
    "df_day['distance'] = df_day.reset_index().index * WHEELSIZE * np.pi * 2 / 100\n",
    "\n",
    "df_day.loc[:,'distance'].plot()\n",
    "daily_distance = df_day['distance'].iloc[-1]\n",
    "print(f'Wilson ran {daily_distance:.2f} m between {start} and {end}')"
   ]
  },
  {
   "cell_type": "code",
   "execution_count": 30,
   "metadata": {},
   "outputs": [
    {
     "name": "stdout",
     "output_type": "stream",
     "text": [
      "Wilson ran 3319.41 m between 2022-06-09 20:00 and 2022-06-10 12:00\n"
     ]
    },
    {
     "data": {
      "image/png": "[encoded data removed]",
      "text/plain": [
       "<Figure size 432x288 with 1 Axes>"
      ]
     },
     "metadata": {
      "needs_background": "light"
     },
     "output_type": "display_data"
    }
   ],
   "source": [
    "# distance in m\n",
    "start = '2022-06-09 20:00'\n",
    "end = '2022-06-10 12:00'\n",
    "\n",
    "df_day = df_cleaned.set_index('time').loc[start:end, :]\n",
    "df_day['distance'] = df_day.reset_index().index * WHEELSIZE * np.pi * 2 / 100\n",
    "\n",
    "df_day.loc[:,'distance'].plot()\n",
    "daily_distance = df_day['distance'].iloc[-1]\n",
    "print(f'Wilson ran {daily_distance:.2f} m between {start} and {end}')"
   ]
  },
  {
   "cell_type": "code",
   "execution_count": 31,
   "metadata": {},
   "outputs": [
    {
     "name": "stdout",
     "output_type": "stream",
     "text": [
      "Wilson ran 1438.22 m between 2022-06-10 20:00 and 2022-06-11 12:00\n"
     ]
    },
    {
     "data": {
      "image/png": "[encoded data removed]",
      "text/plain": [
       "<Figure size 432x288 with 1 Axes>"
      ]
     },
     "metadata": {
      "needs_background": "light"
     },
     "output_type": "display_data"
    }
   ],
   "source": [
    "# distance in m\n",
    "start = '2022-06-10 20:00'\n",
    "end = '2022-06-11 12:00'\n",
    "\n",
    "df_day = df_cleaned.set_index('time').loc[start:end, :]\n",
    "df_day['distance'] = df_day.reset_index().index * WHEELSIZE * np.pi * 2 / 100\n",
    "\n",
    "df_day.loc[:,'distance'].plot()\n",
    "daily_distance = df_day['distance'].iloc[-1]\n",
    "print(f'Wilson ran {daily_distance:.2f} m between {start} and {end}')"
   ]
  },
  {
   "cell_type": "code",
   "execution_count": 32,
   "metadata": {},
   "outputs": [
    {
     "name": "stdout",
     "output_type": "stream",
     "text": [
      "Wilson ran 853.88 m between 2022-06-11 20:00 and 2022-06-12 12:00\n"
     ]
    },
    {
     "data": {
      "image/png": "[encoded data removed]",
      "text/plain": [
       "<Figure size 432x288 with 1 Axes>"
      ]
     },
     "metadata": {
      "needs_background": "light"
     },
     "output_type": "display_data"
    }
   ],
   "source": [
    "# distance in m\n",
    "start = '2022-06-11 20:00'\n",
    "end = '2022-06-12 12:00'\n",
    "\n",
    "df_day = df_cleaned.set_index('time').loc[start:end, :]\n",
    "df_day['distance'] = df_day.reset_index().index * WHEELSIZE * np.pi * 2 / 100\n",
    "\n",
    "df_day.loc[:,'distance'].plot()\n",
    "daily_distance = df_day['distance'].iloc[-1]\n",
    "print(f'Wilson ran {daily_distance:.2f} m between {start} and {end}')"
   ]
  },
  {
   "cell_type": "code",
   "execution_count": 33,
   "metadata": {},
   "outputs": [
    {
     "name": "stdout",
     "output_type": "stream",
     "text": [
      "Wilson ran 1719.08 m between 2022-06-12 20:00 and 2022-06-13 12:00\n"
     ]
    },
    {
     "data": {
      "image/png": "[encoded data removed]",
      "text/plain": [
       "<Figure size 432x288 with 1 Axes>"
      ]
     },
     "metadata": {
      "needs_background": "light"
     },
     "output_type": "display_data"
    }
   ],
   "source": [
    "# distance in m\n",
    "start = '2022-06-12 20:00'\n",
    "end = '2022-06-13 12:00'\n",
    "\n",
    "df_day = df_cleaned.set_index('time').loc[start:end, :]\n",
    "df_day['distance'] = df_day.reset_index().index * WHEELSIZE * np.pi * 2 / 100\n",
    "\n",
    "df_day.loc[:,'distance'].plot()\n",
    "daily_distance = df_day['distance'].iloc[-1]\n",
    "print(f'Wilson ran {daily_distance:.2f} m between {start} and {end}')"
   ]
  },
  {
   "cell_type": "code",
   "execution_count": null,
   "metadata": {},
   "outputs": [],
   "source": []
  }
 ],
 "metadata": {
  "interpreter": {
   "hash": "8b31b49d2cd76030d872bc4f6b8d7fee805f99257bcdb74753cc9ee21e1b0afb"
  },
  "kernelspec": {
   "display_name": "Python 3.10.3 64-bit ('wilsonisahamster')",
   "language": "python",
   "name": "python3"
  },
  "language_info": {
   "codemirror_mode": {
    "name": "ipython",
    "version": 3
   },
   "file_extension": ".py",
   "mimetype": "text/x-python",
   "name": "python",
   "nbconvert_exporter": "python",
   "pygments_lexer": "ipython3",
   "version": "3.10.3"
  },
  "orig_nbformat": 4
 },
 "nbformat": 4,
 "nbformat_minor": 2
}
